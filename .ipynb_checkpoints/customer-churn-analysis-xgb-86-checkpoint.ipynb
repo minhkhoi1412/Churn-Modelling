{
 "cells": [
  {
   "cell_type": "code",
   "execution_count": 1,
   "id": "affecting-berlin",
   "metadata": {
    "_cell_guid": "b1076dfc-b9ad-4769-8c92-a6c4dae69d19",
    "_uuid": "8f2839f25d086af736a60e9eeb907d3b93b6e0e5",
    "execution": {
     "iopub.execute_input": "2021-05-11T14:55:29.884691Z",
     "iopub.status.busy": "2021-05-11T14:55:29.884007Z",
     "iopub.status.idle": "2021-05-11T14:55:29.897018Z",
     "shell.execute_reply": "2021-05-11T14:55:29.896370Z"
    },
    "papermill": {
     "duration": 0.065308,
     "end_time": "2021-05-11T14:55:29.897178",
     "exception": false,
     "start_time": "2021-05-11T14:55:29.831870",
     "status": "completed"
    },
    "tags": []
   },
   "outputs": [
    {
     "name": "stdout",
     "output_type": "stream",
     "text": [
      "/kaggle/input/churn-modelling/Churn_Modelling.csv\n"
     ]
    }
   ],
   "source": [
    "# This Python 3 environment comes with many helpful analytics libraries installed\n",
    "# It is defined by the kaggle/python Docker image: https://github.com/kaggle/docker-python\n",
    "# For example, here's several helpful packages to load\n",
    "\n",
    "import numpy as np # linear algebra\n",
    "import pandas as pd # data processing, CSV file I/O (e.g. pd.read_csv)\n",
    "\n",
    "# Input data files are available in the read-only \"../input/\" directory\n",
    "# For example, running this (by clicking run or pressing Shift+Enter) will list all files under the input directory\n",
    "\n",
    "import os\n",
    "for dirname, _, filenames in os.walk('/kaggle/input'):\n",
    "    for filename in filenames:\n",
    "        print(os.path.join(dirname, filename))\n",
    "\n",
    "# You can write up to 20GB to the current directory (/kaggle/working/) that gets preserved as output when you create a version using \"Save & Run All\" \n",
    "# You can also write temporary files to /kaggle/temp/, but they won't be saved outside of the current session"
   ]
  },
  {
   "cell_type": "code",
   "execution_count": 2,
   "id": "naked-parameter",
   "metadata": {
    "execution": {
     "iopub.execute_input": "2021-05-11T14:55:29.985236Z",
     "iopub.status.busy": "2021-05-11T14:55:29.984508Z",
     "iopub.status.idle": "2021-05-11T14:55:32.563186Z",
     "shell.execute_reply": "2021-05-11T14:55:32.562614Z"
    },
    "papermill": {
     "duration": 2.625618,
     "end_time": "2021-05-11T14:55:32.563328",
     "exception": false,
     "start_time": "2021-05-11T14:55:29.937710",
     "status": "completed"
    },
    "tags": []
   },
   "outputs": [
    {
     "data": {
      "text/html": [
       "<style type='text/css'>\n",
       ".datatable table.frame { margin-bottom: 0; }\n",
       ".datatable table.frame thead { border-bottom: none; }\n",
       ".datatable table.frame tr.coltypes td {  color: #FFFFFF;  line-height: 6px;  padding: 0 0.5em;}\n",
       ".datatable .bool    { background: #DDDD99; }\n",
       ".datatable .object  { background: #565656; }\n",
       ".datatable .int     { background: #5D9E5D; }\n",
       ".datatable .float   { background: #4040CC; }\n",
       ".datatable .str     { background: #CC4040; }\n",
       ".datatable .row_index {  background: var(--jp-border-color3);  border-right: 1px solid var(--jp-border-color0);  color: var(--jp-ui-font-color3);  font-size: 9px;}\n",
       ".datatable .frame tr.coltypes .row_index {  background: var(--jp-border-color0);}\n",
       ".datatable th:nth-child(2) { padding-left: 12px; }\n",
       ".datatable .hellipsis {  color: var(--jp-cell-editor-border-color);}\n",
       ".datatable .vellipsis {  background: var(--jp-layout-color0);  color: var(--jp-cell-editor-border-color);}\n",
       ".datatable .na {  color: var(--jp-cell-editor-border-color);  font-size: 80%;}\n",
       ".datatable .footer { font-size: 9px; }\n",
       ".datatable .frame_dimensions {  background: var(--jp-border-color3);  border-top: 1px solid var(--jp-border-color0);  color: var(--jp-ui-font-color3);  display: inline-block;  opacity: 0.6;  padding: 1px 10px 1px 5px;}\n",
       "</style>\n"
      ],
      "text/plain": [
       "<IPython.core.display.HTML object>"
      ]
     },
     "metadata": {},
     "output_type": "display_data"
    }
   ],
   "source": [
    "import seaborn as sns\n",
    "import matplotlib.pyplot as plt\n",
    "\n",
    "from sklearn.linear_model import LogisticRegression\n",
    "from sklearn.neighbors import KNeighborsClassifier\n",
    "from sklearn.naive_bayes import GaussianNB,BernoulliNB\n",
    "from sklearn.svm import SVC\n",
    "from sklearn.tree import DecisionTreeClassifier\n",
    "from sklearn.ensemble import RandomForestClassifier\n",
    "from xgboost import XGBClassifier\n",
    "from sklearn.ensemble import AdaBoostClassifier\n",
    "\n",
    "from sklearn.metrics import accuracy_score,confusion_matrix,roc_auc_score,ConfusionMatrixDisplay,precision_score,recall_score,f1_score,classification_report,roc_curve,plot_roc_curve,auc,precision_recall_curve,plot_precision_recall_curve,average_precision_score\n",
    "from sklearn.model_selection import cross_val_score\n",
    "from sklearn.model_selection import GridSearchCV\n",
    "from sklearn.model_selection import train_test_split\n",
    "\n",
    "from sklearn.preprocessing import OneHotEncoder\n",
    "from sklearn.preprocessing import LabelEncoder\n",
    "\n",
    "from lightgbm import LGBMClassifier\n",
    "import warnings\n",
    "warnings.filterwarnings('ignore')"
   ]
  },
  {
   "cell_type": "code",
   "execution_count": 3,
   "id": "through-california",
   "metadata": {
    "execution": {
     "iopub.execute_input": "2021-05-11T14:55:32.648489Z",
     "iopub.status.busy": "2021-05-11T14:55:32.647823Z",
     "iopub.status.idle": "2021-05-11T14:55:32.697764Z",
     "shell.execute_reply": "2021-05-11T14:55:32.697225Z"
    },
    "papermill": {
     "duration": 0.093354,
     "end_time": "2021-05-11T14:55:32.697990",
     "exception": false,
     "start_time": "2021-05-11T14:55:32.604636",
     "status": "completed"
    },
    "tags": []
   },
   "outputs": [],
   "source": [
    "df = pd.read_csv('../input/churn-modelling/Churn_Modelling.csv')"
   ]
  },
  {
   "cell_type": "code",
   "execution_count": 4,
   "id": "short-tribe",
   "metadata": {
    "execution": {
     "iopub.execute_input": "2021-05-11T14:55:32.790712Z",
     "iopub.status.busy": "2021-05-11T14:55:32.790049Z",
     "iopub.status.idle": "2021-05-11T14:55:32.814087Z",
     "shell.execute_reply": "2021-05-11T14:55:32.814617Z"
    },
    "papermill": {
     "duration": 0.075347,
     "end_time": "2021-05-11T14:55:32.814782",
     "exception": false,
     "start_time": "2021-05-11T14:55:32.739435",
     "status": "completed"
    },
    "tags": []
   },
   "outputs": [
    {
     "data": {
      "text/html": [
       "<div>\n",
       "<style scoped>\n",
       "    .dataframe tbody tr th:only-of-type {\n",
       "        vertical-align: middle;\n",
       "    }\n",
       "\n",
       "    .dataframe tbody tr th {\n",
       "        vertical-align: top;\n",
       "    }\n",
       "\n",
       "    .dataframe thead th {\n",
       "        text-align: right;\n",
       "    }\n",
       "</style>\n",
       "<table border=\"1\" class=\"dataframe\">\n",
       "  <thead>\n",
       "    <tr style=\"text-align: right;\">\n",
       "      <th></th>\n",
       "      <th>RowNumber</th>\n",
       "      <th>CustomerId</th>\n",
       "      <th>Surname</th>\n",
       "      <th>CreditScore</th>\n",
       "      <th>Geography</th>\n",
       "      <th>Gender</th>\n",
       "      <th>Age</th>\n",
       "      <th>Tenure</th>\n",
       "      <th>Balance</th>\n",
       "      <th>NumOfProducts</th>\n",
       "      <th>HasCrCard</th>\n",
       "      <th>IsActiveMember</th>\n",
       "      <th>EstimatedSalary</th>\n",
       "      <th>Exited</th>\n",
       "    </tr>\n",
       "  </thead>\n",
       "  <tbody>\n",
       "    <tr>\n",
       "      <th>0</th>\n",
       "      <td>1</td>\n",
       "      <td>15634602</td>\n",
       "      <td>Hargrave</td>\n",
       "      <td>619</td>\n",
       "      <td>France</td>\n",
       "      <td>Female</td>\n",
       "      <td>42</td>\n",
       "      <td>2</td>\n",
       "      <td>0.00</td>\n",
       "      <td>1</td>\n",
       "      <td>1</td>\n",
       "      <td>1</td>\n",
       "      <td>101348.88</td>\n",
       "      <td>1</td>\n",
       "    </tr>\n",
       "    <tr>\n",
       "      <th>1</th>\n",
       "      <td>2</td>\n",
       "      <td>15647311</td>\n",
       "      <td>Hill</td>\n",
       "      <td>608</td>\n",
       "      <td>Spain</td>\n",
       "      <td>Female</td>\n",
       "      <td>41</td>\n",
       "      <td>1</td>\n",
       "      <td>83807.86</td>\n",
       "      <td>1</td>\n",
       "      <td>0</td>\n",
       "      <td>1</td>\n",
       "      <td>112542.58</td>\n",
       "      <td>0</td>\n",
       "    </tr>\n",
       "    <tr>\n",
       "      <th>2</th>\n",
       "      <td>3</td>\n",
       "      <td>15619304</td>\n",
       "      <td>Onio</td>\n",
       "      <td>502</td>\n",
       "      <td>France</td>\n",
       "      <td>Female</td>\n",
       "      <td>42</td>\n",
       "      <td>8</td>\n",
       "      <td>159660.80</td>\n",
       "      <td>3</td>\n",
       "      <td>1</td>\n",
       "      <td>0</td>\n",
       "      <td>113931.57</td>\n",
       "      <td>1</td>\n",
       "    </tr>\n",
       "    <tr>\n",
       "      <th>3</th>\n",
       "      <td>4</td>\n",
       "      <td>15701354</td>\n",
       "      <td>Boni</td>\n",
       "      <td>699</td>\n",
       "      <td>France</td>\n",
       "      <td>Female</td>\n",
       "      <td>39</td>\n",
       "      <td>1</td>\n",
       "      <td>0.00</td>\n",
       "      <td>2</td>\n",
       "      <td>0</td>\n",
       "      <td>0</td>\n",
       "      <td>93826.63</td>\n",
       "      <td>0</td>\n",
       "    </tr>\n",
       "    <tr>\n",
       "      <th>4</th>\n",
       "      <td>5</td>\n",
       "      <td>15737888</td>\n",
       "      <td>Mitchell</td>\n",
       "      <td>850</td>\n",
       "      <td>Spain</td>\n",
       "      <td>Female</td>\n",
       "      <td>43</td>\n",
       "      <td>2</td>\n",
       "      <td>125510.82</td>\n",
       "      <td>1</td>\n",
       "      <td>1</td>\n",
       "      <td>1</td>\n",
       "      <td>79084.10</td>\n",
       "      <td>0</td>\n",
       "    </tr>\n",
       "  </tbody>\n",
       "</table>\n",
       "</div>"
      ],
      "text/plain": [
       "   RowNumber  CustomerId   Surname  CreditScore Geography  Gender  Age  \\\n",
       "0          1    15634602  Hargrave          619    France  Female   42   \n",
       "1          2    15647311      Hill          608     Spain  Female   41   \n",
       "2          3    15619304      Onio          502    France  Female   42   \n",
       "3          4    15701354      Boni          699    France  Female   39   \n",
       "4          5    15737888  Mitchell          850     Spain  Female   43   \n",
       "\n",
       "   Tenure    Balance  NumOfProducts  HasCrCard  IsActiveMember  \\\n",
       "0       2       0.00              1          1               1   \n",
       "1       1   83807.86              1          0               1   \n",
       "2       8  159660.80              3          1               0   \n",
       "3       1       0.00              2          0               0   \n",
       "4       2  125510.82              1          1               1   \n",
       "\n",
       "   EstimatedSalary  Exited  \n",
       "0        101348.88       1  \n",
       "1        112542.58       0  \n",
       "2        113931.57       1  \n",
       "3         93826.63       0  \n",
       "4         79084.10       0  "
      ]
     },
     "execution_count": 4,
     "metadata": {},
     "output_type": "execute_result"
    }
   ],
   "source": [
    "df.head()"
   ]
  },
  {
   "cell_type": "code",
   "execution_count": 5,
   "id": "numeric-quick",
   "metadata": {
    "execution": {
     "iopub.execute_input": "2021-05-11T14:55:32.909098Z",
     "iopub.status.busy": "2021-05-11T14:55:32.908368Z",
     "iopub.status.idle": "2021-05-11T14:55:32.925682Z",
     "shell.execute_reply": "2021-05-11T14:55:32.926189Z"
    },
    "papermill": {
     "duration": 0.069446,
     "end_time": "2021-05-11T14:55:32.926364",
     "exception": false,
     "start_time": "2021-05-11T14:55:32.856918",
     "status": "completed"
    },
    "tags": []
   },
   "outputs": [
    {
     "name": "stdout",
     "output_type": "stream",
     "text": [
      "<class 'pandas.core.frame.DataFrame'>\n",
      "RangeIndex: 10000 entries, 0 to 9999\n",
      "Data columns (total 14 columns):\n",
      " #   Column           Non-Null Count  Dtype  \n",
      "---  ------           --------------  -----  \n",
      " 0   RowNumber        10000 non-null  int64  \n",
      " 1   CustomerId       10000 non-null  int64  \n",
      " 2   Surname          10000 non-null  object \n",
      " 3   CreditScore      10000 non-null  int64  \n",
      " 4   Geography        10000 non-null  object \n",
      " 5   Gender           10000 non-null  object \n",
      " 6   Age              10000 non-null  int64  \n",
      " 7   Tenure           10000 non-null  int64  \n",
      " 8   Balance          10000 non-null  float64\n",
      " 9   NumOfProducts    10000 non-null  int64  \n",
      " 10  HasCrCard        10000 non-null  int64  \n",
      " 11  IsActiveMember   10000 non-null  int64  \n",
      " 12  EstimatedSalary  10000 non-null  float64\n",
      " 13  Exited           10000 non-null  int64  \n",
      "dtypes: float64(2), int64(9), object(3)\n",
      "memory usage: 1.1+ MB\n"
     ]
    }
   ],
   "source": [
    "df.info()"
   ]
  },
  {
   "cell_type": "code",
   "execution_count": 6,
   "id": "adapted-setting",
   "metadata": {
    "execution": {
     "iopub.execute_input": "2021-05-11T14:55:33.013509Z",
     "iopub.status.busy": "2021-05-11T14:55:33.012877Z",
     "iopub.status.idle": "2021-05-11T14:55:33.064418Z",
     "shell.execute_reply": "2021-05-11T14:55:33.063926Z"
    },
    "papermill": {
     "duration": 0.096163,
     "end_time": "2021-05-11T14:55:33.064565",
     "exception": false,
     "start_time": "2021-05-11T14:55:32.968402",
     "status": "completed"
    },
    "tags": []
   },
   "outputs": [
    {
     "data": {
      "text/html": [
       "<div>\n",
       "<style scoped>\n",
       "    .dataframe tbody tr th:only-of-type {\n",
       "        vertical-align: middle;\n",
       "    }\n",
       "\n",
       "    .dataframe tbody tr th {\n",
       "        vertical-align: top;\n",
       "    }\n",
       "\n",
       "    .dataframe thead th {\n",
       "        text-align: right;\n",
       "    }\n",
       "</style>\n",
       "<table border=\"1\" class=\"dataframe\">\n",
       "  <thead>\n",
       "    <tr style=\"text-align: right;\">\n",
       "      <th></th>\n",
       "      <th>RowNumber</th>\n",
       "      <th>CustomerId</th>\n",
       "      <th>CreditScore</th>\n",
       "      <th>Age</th>\n",
       "      <th>Tenure</th>\n",
       "      <th>Balance</th>\n",
       "      <th>NumOfProducts</th>\n",
       "      <th>HasCrCard</th>\n",
       "      <th>IsActiveMember</th>\n",
       "      <th>EstimatedSalary</th>\n",
       "      <th>Exited</th>\n",
       "    </tr>\n",
       "  </thead>\n",
       "  <tbody>\n",
       "    <tr>\n",
       "      <th>count</th>\n",
       "      <td>10000.00000</td>\n",
       "      <td>1.000000e+04</td>\n",
       "      <td>10000.000000</td>\n",
       "      <td>10000.000000</td>\n",
       "      <td>10000.000000</td>\n",
       "      <td>10000.000000</td>\n",
       "      <td>10000.000000</td>\n",
       "      <td>10000.00000</td>\n",
       "      <td>10000.000000</td>\n",
       "      <td>10000.000000</td>\n",
       "      <td>10000.000000</td>\n",
       "    </tr>\n",
       "    <tr>\n",
       "      <th>mean</th>\n",
       "      <td>5000.50000</td>\n",
       "      <td>1.569094e+07</td>\n",
       "      <td>650.528800</td>\n",
       "      <td>38.921800</td>\n",
       "      <td>5.012800</td>\n",
       "      <td>76485.889288</td>\n",
       "      <td>1.530200</td>\n",
       "      <td>0.70550</td>\n",
       "      <td>0.515100</td>\n",
       "      <td>100090.239881</td>\n",
       "      <td>0.203700</td>\n",
       "    </tr>\n",
       "    <tr>\n",
       "      <th>std</th>\n",
       "      <td>2886.89568</td>\n",
       "      <td>7.193619e+04</td>\n",
       "      <td>96.653299</td>\n",
       "      <td>10.487806</td>\n",
       "      <td>2.892174</td>\n",
       "      <td>62397.405202</td>\n",
       "      <td>0.581654</td>\n",
       "      <td>0.45584</td>\n",
       "      <td>0.499797</td>\n",
       "      <td>57510.492818</td>\n",
       "      <td>0.402769</td>\n",
       "    </tr>\n",
       "    <tr>\n",
       "      <th>min</th>\n",
       "      <td>1.00000</td>\n",
       "      <td>1.556570e+07</td>\n",
       "      <td>350.000000</td>\n",
       "      <td>18.000000</td>\n",
       "      <td>0.000000</td>\n",
       "      <td>0.000000</td>\n",
       "      <td>1.000000</td>\n",
       "      <td>0.00000</td>\n",
       "      <td>0.000000</td>\n",
       "      <td>11.580000</td>\n",
       "      <td>0.000000</td>\n",
       "    </tr>\n",
       "    <tr>\n",
       "      <th>25%</th>\n",
       "      <td>2500.75000</td>\n",
       "      <td>1.562853e+07</td>\n",
       "      <td>584.000000</td>\n",
       "      <td>32.000000</td>\n",
       "      <td>3.000000</td>\n",
       "      <td>0.000000</td>\n",
       "      <td>1.000000</td>\n",
       "      <td>0.00000</td>\n",
       "      <td>0.000000</td>\n",
       "      <td>51002.110000</td>\n",
       "      <td>0.000000</td>\n",
       "    </tr>\n",
       "    <tr>\n",
       "      <th>50%</th>\n",
       "      <td>5000.50000</td>\n",
       "      <td>1.569074e+07</td>\n",
       "      <td>652.000000</td>\n",
       "      <td>37.000000</td>\n",
       "      <td>5.000000</td>\n",
       "      <td>97198.540000</td>\n",
       "      <td>1.000000</td>\n",
       "      <td>1.00000</td>\n",
       "      <td>1.000000</td>\n",
       "      <td>100193.915000</td>\n",
       "      <td>0.000000</td>\n",
       "    </tr>\n",
       "    <tr>\n",
       "      <th>75%</th>\n",
       "      <td>7500.25000</td>\n",
       "      <td>1.575323e+07</td>\n",
       "      <td>718.000000</td>\n",
       "      <td>44.000000</td>\n",
       "      <td>7.000000</td>\n",
       "      <td>127644.240000</td>\n",
       "      <td>2.000000</td>\n",
       "      <td>1.00000</td>\n",
       "      <td>1.000000</td>\n",
       "      <td>149388.247500</td>\n",
       "      <td>0.000000</td>\n",
       "    </tr>\n",
       "    <tr>\n",
       "      <th>max</th>\n",
       "      <td>10000.00000</td>\n",
       "      <td>1.581569e+07</td>\n",
       "      <td>850.000000</td>\n",
       "      <td>92.000000</td>\n",
       "      <td>10.000000</td>\n",
       "      <td>250898.090000</td>\n",
       "      <td>4.000000</td>\n",
       "      <td>1.00000</td>\n",
       "      <td>1.000000</td>\n",
       "      <td>199992.480000</td>\n",
       "      <td>1.000000</td>\n",
       "    </tr>\n",
       "  </tbody>\n",
       "</table>\n",
       "</div>"
      ],
      "text/plain": [
       "         RowNumber    CustomerId   CreditScore           Age        Tenure  \\\n",
       "count  10000.00000  1.000000e+04  10000.000000  10000.000000  10000.000000   \n",
       "mean    5000.50000  1.569094e+07    650.528800     38.921800      5.012800   \n",
       "std     2886.89568  7.193619e+04     96.653299     10.487806      2.892174   \n",
       "min        1.00000  1.556570e+07    350.000000     18.000000      0.000000   \n",
       "25%     2500.75000  1.562853e+07    584.000000     32.000000      3.000000   \n",
       "50%     5000.50000  1.569074e+07    652.000000     37.000000      5.000000   \n",
       "75%     7500.25000  1.575323e+07    718.000000     44.000000      7.000000   \n",
       "max    10000.00000  1.581569e+07    850.000000     92.000000     10.000000   \n",
       "\n",
       "             Balance  NumOfProducts    HasCrCard  IsActiveMember  \\\n",
       "count   10000.000000   10000.000000  10000.00000    10000.000000   \n",
       "mean    76485.889288       1.530200      0.70550        0.515100   \n",
       "std     62397.405202       0.581654      0.45584        0.499797   \n",
       "min         0.000000       1.000000      0.00000        0.000000   \n",
       "25%         0.000000       1.000000      0.00000        0.000000   \n",
       "50%     97198.540000       1.000000      1.00000        1.000000   \n",
       "75%    127644.240000       2.000000      1.00000        1.000000   \n",
       "max    250898.090000       4.000000      1.00000        1.000000   \n",
       "\n",
       "       EstimatedSalary        Exited  \n",
       "count     10000.000000  10000.000000  \n",
       "mean     100090.239881      0.203700  \n",
       "std       57510.492818      0.402769  \n",
       "min          11.580000      0.000000  \n",
       "25%       51002.110000      0.000000  \n",
       "50%      100193.915000      0.000000  \n",
       "75%      149388.247500      0.000000  \n",
       "max      199992.480000      1.000000  "
      ]
     },
     "execution_count": 6,
     "metadata": {},
     "output_type": "execute_result"
    }
   ],
   "source": [
    "df.describe()"
   ]
  },
  {
   "cell_type": "markdown",
   "id": "structural-aerospace",
   "metadata": {
    "papermill": {
     "duration": 0.04427,
     "end_time": "2021-05-11T14:55:33.158989",
     "exception": false,
     "start_time": "2021-05-11T14:55:33.114719",
     "status": "completed"
    },
    "tags": []
   },
   "source": [
    "### Missing Values"
   ]
  },
  {
   "cell_type": "code",
   "execution_count": 7,
   "id": "unusual-fifty",
   "metadata": {
    "execution": {
     "iopub.execute_input": "2021-05-11T14:55:33.253034Z",
     "iopub.status.busy": "2021-05-11T14:55:33.252379Z",
     "iopub.status.idle": "2021-05-11T14:55:33.258500Z",
     "shell.execute_reply": "2021-05-11T14:55:33.258961Z"
    },
    "papermill": {
     "duration": 0.057331,
     "end_time": "2021-05-11T14:55:33.259133",
     "exception": false,
     "start_time": "2021-05-11T14:55:33.201802",
     "status": "completed"
    },
    "tags": []
   },
   "outputs": [
    {
     "data": {
      "text/plain": [
       "RowNumber          0\n",
       "CustomerId         0\n",
       "Surname            0\n",
       "CreditScore        0\n",
       "Geography          0\n",
       "Gender             0\n",
       "Age                0\n",
       "Tenure             0\n",
       "Balance            0\n",
       "NumOfProducts      0\n",
       "HasCrCard          0\n",
       "IsActiveMember     0\n",
       "EstimatedSalary    0\n",
       "Exited             0\n",
       "dtype: int64"
      ]
     },
     "execution_count": 7,
     "metadata": {},
     "output_type": "execute_result"
    }
   ],
   "source": [
    "df.isnull().sum()"
   ]
  },
  {
   "cell_type": "code",
   "execution_count": 8,
   "id": "ruled-maintenance",
   "metadata": {
    "execution": {
     "iopub.execute_input": "2021-05-11T14:55:33.349061Z",
     "iopub.status.busy": "2021-05-11T14:55:33.348119Z",
     "iopub.status.idle": "2021-05-11T14:55:35.579002Z",
     "shell.execute_reply": "2021-05-11T14:55:35.578429Z"
    },
    "papermill": {
     "duration": 2.27688,
     "end_time": "2021-05-11T14:55:35.579138",
     "exception": false,
     "start_time": "2021-05-11T14:55:33.302258",
     "status": "completed"
    },
    "tags": []
   },
   "outputs": [
    {
     "data": {
      "image/png": "[encoded data removed]",
      "text/plain": [
       "<Figure size 1152x360 with 2 Axes>"
      ]
     },
     "metadata": {
      "needs_background": "light"
     },
     "output_type": "display_data"
    }
   ],
   "source": [
    "f, ax = plt.subplots(nrows = 1, ncols = 1, figsize=(16,5))\n",
    "\n",
    "sns.heatmap(df.T.isna(), cmap='Blues')\n",
    "ax.set_title('Missing Values')\n",
    "\n",
    "for tick in ax.yaxis.get_major_ticks():\n",
    "    tick.label.set_fontsize(14)\n",
    "plt.show()"
   ]
  },
  {
   "cell_type": "markdown",
   "id": "above-adjustment",
   "metadata": {
    "papermill": {
     "duration": 0.045242,
     "end_time": "2021-05-11T14:55:35.675941",
     "exception": false,
     "start_time": "2021-05-11T14:55:35.630699",
     "status": "completed"
    },
    "tags": []
   },
   "source": [
    "## Data Visualization\n",
    "### 2.1 Corr Heat Map"
   ]
  },
  {
   "cell_type": "code",
   "execution_count": 9,
   "id": "continent-financing",
   "metadata": {
    "execution": {
     "iopub.execute_input": "2021-05-11T14:55:35.773320Z",
     "iopub.status.busy": "2021-05-11T14:55:35.772691Z",
     "iopub.status.idle": "2021-05-11T14:55:36.129761Z",
     "shell.execute_reply": "2021-05-11T14:55:36.130616Z"
    },
    "papermill": {
     "duration": 0.409684,
     "end_time": "2021-05-11T14:55:36.130787",
     "exception": false,
     "start_time": "2021-05-11T14:55:35.721103",
     "status": "completed"
    },
    "tags": []
   },
   "outputs": [
    {
     "data": {
      "text/plain": [
       "<AxesSubplot:>"
      ]
     },
     "execution_count": 9,
     "metadata": {},
     "output_type": "execute_result"
    },
    {
     "data": {
      "image/png": "[encoded data removed]",
      "text/plain": [
       "<Figure size 792x648 with 2 Axes>"
      ]
     },
     "metadata": {
      "needs_background": "light"
     },
     "output_type": "display_data"
    }
   ],
   "source": [
    "# compute the correlation matrix\n",
    "\n",
    "corr = df.corr()\n",
    "\n",
    "# generate a mask for the upper triangle\n",
    "\n",
    "mask = np.triu(np.ones_like(corr,dtype=bool))\n",
    "\n",
    "# set up matplotlib figure\n",
    "f, ax = plt.subplots(figsize=(11,9))\n",
    "\n",
    "#generate a custom diverging colormap\n",
    "cmap = sns.diverging_palette(230,20,as_cmap=True)\n",
    "\n",
    "#draw the heatpmap ith the mask and correct aspect ratio\n",
    "sns.heatmap(corr,mask=mask, cmap=cmap, vmax=.3,center=0,square=True,linewidths=.5,cbar_kws = {'shrink':.5})"
   ]
  },
  {
   "cell_type": "code",
   "execution_count": 10,
   "id": "motivated-valentine",
   "metadata": {
    "execution": {
     "iopub.execute_input": "2021-05-11T14:55:36.232235Z",
     "iopub.status.busy": "2021-05-11T14:55:36.231554Z",
     "iopub.status.idle": "2021-05-11T14:55:36.234054Z",
     "shell.execute_reply": "2021-05-11T14:55:36.234652Z"
    },
    "papermill": {
     "duration": 0.057506,
     "end_time": "2021-05-11T14:55:36.234816",
     "exception": false,
     "start_time": "2021-05-11T14:55:36.177310",
     "status": "completed"
    },
    "tags": []
   },
   "outputs": [
    {
     "data": {
      "text/plain": [
       "Exited             1.000000\n",
       "Age                0.285323\n",
       "Balance            0.118533\n",
       "EstimatedSalary    0.012097\n",
       "CustomerId        -0.006248\n",
       "HasCrCard         -0.007138\n",
       "Tenure            -0.014001\n",
       "RowNumber         -0.016571\n",
       "CreditScore       -0.027094\n",
       "NumOfProducts     -0.047820\n",
       "IsActiveMember    -0.156128\n",
       "Name: Exited, dtype: float64"
      ]
     },
     "execution_count": 10,
     "metadata": {},
     "output_type": "execute_result"
    }
   ],
   "source": [
    "# Exited correlations\n",
    "\n",
    "corr.sort_values(by=['Exited'],ascending=False).iloc[0].sort_values(ascending=False)"
   ]
  },
  {
   "cell_type": "markdown",
   "id": "asian-footwear",
   "metadata": {
    "papermill": {
     "duration": 0.047195,
     "end_time": "2021-05-11T14:55:36.329921",
     "exception": false,
     "start_time": "2021-05-11T14:55:36.282726",
     "status": "completed"
    },
    "tags": []
   },
   "source": [
    "### 2.2 CountPlot"
   ]
  },
  {
   "cell_type": "code",
   "execution_count": 11,
   "id": "nervous-printing",
   "metadata": {
    "execution": {
     "iopub.execute_input": "2021-05-11T14:55:36.428099Z",
     "iopub.status.busy": "2021-05-11T14:55:36.427447Z",
     "iopub.status.idle": "2021-05-11T14:55:36.564489Z",
     "shell.execute_reply": "2021-05-11T14:55:36.564002Z"
    },
    "papermill": {
     "duration": 0.187744,
     "end_time": "2021-05-11T14:55:36.564645",
     "exception": false,
     "start_time": "2021-05-11T14:55:36.376901",
     "status": "completed"
    },
    "tags": []
   },
   "outputs": [
    {
     "name": "stdout",
     "output_type": "stream",
     "text": [
      "Male      5457\n",
      "Female    4543\n",
      "Name: Gender, dtype: int64\n"
     ]
    },
    {
     "data": {
      "image/png": "[encoded data removed]",
      "text/plain": [
       "<Figure size 432x288 with 1 Axes>"
      ]
     },
     "metadata": {},
     "output_type": "display_data"
    }
   ],
   "source": [
    "print(df.Gender.value_counts())\n",
    "sns.set_theme(style='darkgrid')\n",
    "ax = sns.countplot(data=df, x='Gender')"
   ]
  },
  {
   "cell_type": "code",
   "execution_count": 12,
   "id": "transsexual-kelly",
   "metadata": {
    "execution": {
     "iopub.execute_input": "2021-05-11T14:55:36.671998Z",
     "iopub.status.busy": "2021-05-11T14:55:36.671250Z",
     "iopub.status.idle": "2021-05-11T14:55:36.887463Z",
     "shell.execute_reply": "2021-05-11T14:55:36.886939Z"
    },
    "papermill": {
     "duration": 0.274164,
     "end_time": "2021-05-11T14:55:36.887628",
     "exception": false,
     "start_time": "2021-05-11T14:55:36.613464",
     "status": "completed"
    },
    "tags": []
   },
   "outputs": [
    {
     "name": "stdout",
     "output_type": "stream",
     "text": [
      "Male      5457\n",
      "Female    4543\n",
      "Name: Gender, dtype: int64\n"
     ]
    },
    {
     "data": {
      "image/png": "[encoded data removed]",
      "text/plain": [
       "<Figure size 432x288 with 1 Axes>"
      ]
     },
     "metadata": {},
     "output_type": "display_data"
    }
   ],
   "source": [
    "print(df.Gender.value_counts())\n",
    "sns.set_theme(style='darkgrid')\n",
    "ax = sns.countplot(data=df, x='Tenure')"
   ]
  },
  {
   "cell_type": "code",
   "execution_count": 13,
   "id": "renewable-minority",
   "metadata": {
    "execution": {
     "iopub.execute_input": "2021-05-11T14:55:36.994873Z",
     "iopub.status.busy": "2021-05-11T14:55:36.994120Z",
     "iopub.status.idle": "2021-05-11T14:55:37.136565Z",
     "shell.execute_reply": "2021-05-11T14:55:37.136074Z"
    },
    "papermill": {
     "duration": 0.199557,
     "end_time": "2021-05-11T14:55:37.136718",
     "exception": false,
     "start_time": "2021-05-11T14:55:36.937161",
     "status": "completed"
    },
    "tags": []
   },
   "outputs": [
    {
     "name": "stdout",
     "output_type": "stream",
     "text": [
      "1    5084\n",
      "2    4590\n",
      "3     266\n",
      "4      60\n",
      "Name: NumOfProducts, dtype: int64\n"
     ]
    },
    {
     "data": {
      "image/png": "[encoded data removed]",
      "text/plain": [
       "<Figure size 432x288 with 1 Axes>"
      ]
     },
     "metadata": {},
     "output_type": "display_data"
    }
   ],
   "source": [
    "print(df.NumOfProducts.value_counts())\n",
    "sns.set_theme(style='darkgrid')\n",
    "ax = sns.countplot(data=df,x='NumOfProducts')"
   ]
  },
  {
   "cell_type": "code",
   "execution_count": 14,
   "id": "christian-pitch",
   "metadata": {
    "execution": {
     "iopub.execute_input": "2021-05-11T14:55:37.246263Z",
     "iopub.status.busy": "2021-05-11T14:55:37.245558Z",
     "iopub.status.idle": "2021-05-11T14:55:37.374215Z",
     "shell.execute_reply": "2021-05-11T14:55:37.373651Z"
    },
    "papermill": {
     "duration": 0.187037,
     "end_time": "2021-05-11T14:55:37.374347",
     "exception": false,
     "start_time": "2021-05-11T14:55:37.187310",
     "status": "completed"
    },
    "tags": []
   },
   "outputs": [
    {
     "name": "stdout",
     "output_type": "stream",
     "text": [
      "1    7055\n",
      "0    2945\n",
      "Name: HasCrCard, dtype: int64\n"
     ]
    },
    {
     "data": {
      "image/png": "[encoded data removed]",
      "text/plain": [
       "<Figure size 432x288 with 1 Axes>"
      ]
     },
     "metadata": {},
     "output_type": "display_data"
    }
   ],
   "source": [
    "print(df.HasCrCard.value_counts())\n",
    "sns.set_theme(style='darkgrid')\n",
    "ax = sns.countplot(data=df,x='HasCrCard')"
   ]
  },
  {
   "cell_type": "code",
   "execution_count": 15,
   "id": "expired-baghdad",
   "metadata": {
    "execution": {
     "iopub.execute_input": "2021-05-11T14:55:37.487348Z",
     "iopub.status.busy": "2021-05-11T14:55:37.486361Z",
     "iopub.status.idle": "2021-05-11T14:55:37.607332Z",
     "shell.execute_reply": "2021-05-11T14:55:37.606712Z"
    },
    "papermill": {
     "duration": 0.180564,
     "end_time": "2021-05-11T14:55:37.607463",
     "exception": false,
     "start_time": "2021-05-11T14:55:37.426899",
     "status": "completed"
    },
    "tags": []
   },
   "outputs": [
    {
     "name": "stdout",
     "output_type": "stream",
     "text": [
      "1    5151\n",
      "0    4849\n",
      "Name: IsActiveMember, dtype: int64\n"
     ]
    },
    {
     "data": {
      "image/png": "[encoded data removed]",
      "text/plain": [
       "<Figure size 432x288 with 1 Axes>"
      ]
     },
     "metadata": {},
     "output_type": "display_data"
    }
   ],
   "source": [
    "print(df.IsActiveMember.value_counts())\n",
    "sns.set_theme(style='darkgrid')\n",
    "ax = sns.countplot(data=df,x='IsActiveMember')"
   ]
  },
  {
   "cell_type": "code",
   "execution_count": 16,
   "id": "korean-lodge",
   "metadata": {
    "execution": {
     "iopub.execute_input": "2021-05-11T14:55:37.722801Z",
     "iopub.status.busy": "2021-05-11T14:55:37.721761Z",
     "iopub.status.idle": "2021-05-11T14:55:37.856016Z",
     "shell.execute_reply": "2021-05-11T14:55:37.855409Z"
    },
    "papermill": {
     "duration": 0.195706,
     "end_time": "2021-05-11T14:55:37.856156",
     "exception": false,
     "start_time": "2021-05-11T14:55:37.660450",
     "status": "completed"
    },
    "tags": []
   },
   "outputs": [
    {
     "name": "stdout",
     "output_type": "stream",
     "text": [
      "0    7963\n",
      "1    2037\n",
      "Name: Exited, dtype: int64\n"
     ]
    },
    {
     "data": {
      "image/png": "[encoded data removed]",
      "text/plain": [
       "<Figure size 432x288 with 1 Axes>"
      ]
     },
     "metadata": {},
     "output_type": "display_data"
    }
   ],
   "source": [
    "print(df.Exited.value_counts())\n",
    "sns.set_theme(style='darkgrid')\n",
    "ax = sns.countplot(data=df,x='Exited')"
   ]
  },
  {
   "cell_type": "code",
   "execution_count": 17,
   "id": "formal-warehouse",
   "metadata": {
    "execution": {
     "iopub.execute_input": "2021-05-11T14:55:37.982666Z",
     "iopub.status.busy": "2021-05-11T14:55:37.981694Z",
     "iopub.status.idle": "2021-05-11T14:55:38.124454Z",
     "shell.execute_reply": "2021-05-11T14:55:38.123864Z"
    },
    "papermill": {
     "duration": 0.213485,
     "end_time": "2021-05-11T14:55:38.124609",
     "exception": false,
     "start_time": "2021-05-11T14:55:37.911124",
     "status": "completed"
    },
    "tags": []
   },
   "outputs": [
    {
     "name": "stdout",
     "output_type": "stream",
     "text": [
      "France     5014\n",
      "Germany    2509\n",
      "Spain      2477\n",
      "Name: Geography, dtype: int64\n"
     ]
    },
    {
     "data": {
      "image/png": "[encoded data removed]",
      "text/plain": [
       "<Figure size 432x288 with 1 Axes>"
      ]
     },
     "metadata": {},
     "output_type": "display_data"
    }
   ],
   "source": [
    "print(df.Geography.value_counts())\n",
    "sns.set_theme(style='darkgrid')\n",
    "ax = sns.countplot(data=df,x='Geography')"
   ]
  },
  {
   "cell_type": "markdown",
   "id": "mature-supervision",
   "metadata": {
    "papermill": {
     "duration": 0.054972,
     "end_time": "2021-05-11T14:55:38.234720",
     "exception": false,
     "start_time": "2021-05-11T14:55:38.179748",
     "status": "completed"
    },
    "tags": []
   },
   "source": [
    "### 2.3 Distibution Plot"
   ]
  },
  {
   "cell_type": "code",
   "execution_count": 18,
   "id": "fossil-boxing",
   "metadata": {
    "execution": {
     "iopub.execute_input": "2021-05-11T14:55:38.370260Z",
     "iopub.status.busy": "2021-05-11T14:55:38.358104Z",
     "iopub.status.idle": "2021-05-11T14:55:38.835263Z",
     "shell.execute_reply": "2021-05-11T14:55:38.834764Z"
    },
    "papermill": {
     "duration": 0.545371,
     "end_time": "2021-05-11T14:55:38.835397",
     "exception": false,
     "start_time": "2021-05-11T14:55:38.290026",
     "status": "completed"
    },
    "tags": []
   },
   "outputs": [
    {
     "data": {
      "text/plain": [
       "<Figure size 504x504 with 0 Axes>"
      ]
     },
     "metadata": {},
     "output_type": "display_data"
    },
    {
     "data": {
      "image/png": "[encoded data removed]",
      "text/plain": [
       "<Figure size 360x360 with 1 Axes>"
      ]
     },
     "metadata": {},
     "output_type": "display_data"
    }
   ],
   "source": [
    "fig = plt.figure(figsize=(7,7))\n",
    "sns.displot(df.CreditScore, color='green',label='CreditScore', kde=True)\n",
    "plt.legend();"
   ]
  },
  {
   "cell_type": "code",
   "execution_count": 19,
   "id": "welcome-figure",
   "metadata": {
    "execution": {
     "iopub.execute_input": "2021-05-11T14:55:38.964955Z",
     "iopub.status.busy": "2021-05-11T14:55:38.964229Z",
     "iopub.status.idle": "2021-05-11T14:55:39.511945Z",
     "shell.execute_reply": "2021-05-11T14:55:39.512485Z"
    },
    "papermill": {
     "duration": 0.61949,
     "end_time": "2021-05-11T14:55:39.512673",
     "exception": false,
     "start_time": "2021-05-11T14:55:38.893183",
     "status": "completed"
    },
    "tags": []
   },
   "outputs": [
    {
     "data": {
      "text/plain": [
       "<Figure size 504x504 with 0 Axes>"
      ]
     },
     "metadata": {},
     "output_type": "display_data"
    },
    {
     "data": {
      "image/png": "[encoded data removed]",
      "text/plain": [
       "<Figure size 360x360 with 1 Axes>"
      ]
     },
     "metadata": {},
     "output_type": "display_data"
    }
   ],
   "source": [
    "fig = plt.figure(figsize=(7,7))\n",
    "ax = sns.displot(df.Age, color='blue',label='Age',kde='True')\n",
    "plt.legend();"
   ]
  },
  {
   "cell_type": "code",
   "execution_count": 20,
   "id": "broken-spare",
   "metadata": {
    "execution": {
     "iopub.execute_input": "2021-05-11T14:55:39.655408Z",
     "iopub.status.busy": "2021-05-11T14:55:39.646281Z",
     "iopub.status.idle": "2021-05-11T14:55:40.064928Z",
     "shell.execute_reply": "2021-05-11T14:55:40.064347Z"
    },
    "papermill": {
     "duration": 0.494153,
     "end_time": "2021-05-11T14:55:40.065093",
     "exception": false,
     "start_time": "2021-05-11T14:55:39.570940",
     "status": "completed"
    },
    "tags": []
   },
   "outputs": [
    {
     "data": {
      "text/plain": [
       "<Figure size 504x504 with 0 Axes>"
      ]
     },
     "metadata": {},
     "output_type": "display_data"
    },
    {
     "data": {
      "image/png": "[encoded data removed]",
      "text/plain": [
       "<Figure size 360x360 with 1 Axes>"
      ]
     },
     "metadata": {},
     "output_type": "display_data"
    }
   ],
   "source": [
    "fig = plt.figure(figsize=(7,7))\n",
    "ax = sns.displot(df.Balance, color='red', label='Balance',kde=True)\n",
    "plt.legend();"
   ]
  },
  {
   "cell_type": "code",
   "execution_count": 21,
   "id": "recognized-wisdom",
   "metadata": {
    "execution": {
     "iopub.execute_input": "2021-05-11T14:55:40.198405Z",
     "iopub.status.busy": "2021-05-11T14:55:40.197469Z",
     "iopub.status.idle": "2021-05-11T14:55:40.636006Z",
     "shell.execute_reply": "2021-05-11T14:55:40.635286Z"
    },
    "papermill": {
     "duration": 0.511369,
     "end_time": "2021-05-11T14:55:40.636150",
     "exception": false,
     "start_time": "2021-05-11T14:55:40.124781",
     "status": "completed"
    },
    "tags": []
   },
   "outputs": [
    {
     "data": {
      "text/plain": [
       "<Figure size 504x504 with 0 Axes>"
      ]
     },
     "metadata": {},
     "output_type": "display_data"
    },
    {
     "data": {
      "image/png": "[encoded data removed]",
      "text/plain": [
       "<Figure size 360x360 with 1 Axes>"
      ]
     },
     "metadata": {},
     "output_type": "display_data"
    }
   ],
   "source": [
    "fig  = plt.figure(figsize=(7,7))\n",
    "ax = sns.displot(df.EstimatedSalary,label='EstimatedSalary',color='green',kde=True)\n",
    "plt.legend();"
   ]
  },
  {
   "cell_type": "markdown",
   "id": "cathedral-emerald",
   "metadata": {
    "papermill": {
     "duration": 0.061478,
     "end_time": "2021-05-11T14:55:40.759958",
     "exception": false,
     "start_time": "2021-05-11T14:55:40.698480",
     "status": "completed"
    },
    "tags": []
   },
   "source": [
    "### 2.4 Violin Plot"
   ]
  },
  {
   "cell_type": "code",
   "execution_count": 22,
   "id": "fifth-miller",
   "metadata": {
    "execution": {
     "iopub.execute_input": "2021-05-11T14:55:40.908941Z",
     "iopub.status.busy": "2021-05-11T14:55:40.908254Z",
     "iopub.status.idle": "2021-05-11T14:59:25.691714Z",
     "shell.execute_reply": "2021-05-11T14:59:25.692232Z"
    },
    "papermill": {
     "duration": 224.871333,
     "end_time": "2021-05-11T14:59:25.692419",
     "exception": false,
     "start_time": "2021-05-11T14:55:40.821086",
     "status": "completed"
    },
    "tags": []
   },
   "outputs": [
    {
     "data": {
      "image/png": "[encoded data removed]",
      "text/plain": [
       "<Figure size 936x936 with 6 Axes>"
      ]
     },
     "metadata": {},
     "output_type": "display_data"
    }
   ],
   "source": [
    "plt.figure(figsize=(13,13))\n",
    "sns.set_theme(style='darkgrid')\n",
    "plt.subplot(2,3,1)\n",
    "sns.violinplot(x='CreditScore',y='Exited',data=df)\n",
    "plt.subplot(2,3,2)\n",
    "sns.violinplot(x='Gender',y='Exited',data=df)\n",
    "plt.subplot(2,3,3)\n",
    "sns.violinplot(x='Age',y='Exited',data=df)\n",
    "plt.subplot(2,3,4)\n",
    "sns.violinplot(x='Tenure',y='Exited',data=df)\n",
    "plt.subplot(2,3,5)\n",
    "sns.violinplot(x='Balance',y='Exited',data=df)\n",
    "plt.subplot(2,3,6)\n",
    "sns.violinplot(x='NumOfProducts',y='Exited',data=df)\n",
    "plt.show()"
   ]
  },
  {
   "cell_type": "code",
   "execution_count": 23,
   "id": "quick-sunrise",
   "metadata": {
    "execution": {
     "iopub.execute_input": "2021-05-11T14:59:25.839694Z",
     "iopub.status.busy": "2021-05-11T14:59:25.839019Z",
     "iopub.status.idle": "2021-05-11T14:59:25.843821Z",
     "shell.execute_reply": "2021-05-11T14:59:25.843261Z"
    },
    "papermill": {
     "duration": 0.086072,
     "end_time": "2021-05-11T14:59:25.843964",
     "exception": false,
     "start_time": "2021-05-11T14:59:25.757892",
     "status": "completed"
    },
    "tags": []
   },
   "outputs": [
    {
     "data": {
      "text/html": [
       "<div>\n",
       "<style scoped>\n",
       "    .dataframe tbody tr th:only-of-type {\n",
       "        vertical-align: middle;\n",
       "    }\n",
       "\n",
       "    .dataframe tbody tr th {\n",
       "        vertical-align: top;\n",
       "    }\n",
       "\n",
       "    .dataframe thead th {\n",
       "        text-align: right;\n",
       "    }\n",
       "</style>\n",
       "<table border=\"1\" class=\"dataframe\">\n",
       "  <thead>\n",
       "    <tr style=\"text-align: right;\">\n",
       "      <th></th>\n",
       "      <th>RowNumber</th>\n",
       "      <th>CustomerId</th>\n",
       "      <th>Surname</th>\n",
       "      <th>CreditScore</th>\n",
       "      <th>Geography</th>\n",
       "      <th>Gender</th>\n",
       "      <th>Age</th>\n",
       "      <th>Tenure</th>\n",
       "      <th>Balance</th>\n",
       "      <th>NumOfProducts</th>\n",
       "      <th>HasCrCard</th>\n",
       "      <th>IsActiveMember</th>\n",
       "      <th>EstimatedSalary</th>\n",
       "      <th>Exited</th>\n",
       "    </tr>\n",
       "  </thead>\n",
       "  <tbody>\n",
       "    <tr>\n",
       "      <th>0</th>\n",
       "      <td>1</td>\n",
       "      <td>15634602</td>\n",
       "      <td>Hargrave</td>\n",
       "      <td>619</td>\n",
       "      <td>France</td>\n",
       "      <td>Female</td>\n",
       "      <td>42</td>\n",
       "      <td>2</td>\n",
       "      <td>0.00</td>\n",
       "      <td>1</td>\n",
       "      <td>1</td>\n",
       "      <td>1</td>\n",
       "      <td>101348.88</td>\n",
       "      <td>1</td>\n",
       "    </tr>\n",
       "    <tr>\n",
       "      <th>1</th>\n",
       "      <td>2</td>\n",
       "      <td>15647311</td>\n",
       "      <td>Hill</td>\n",
       "      <td>608</td>\n",
       "      <td>Spain</td>\n",
       "      <td>Female</td>\n",
       "      <td>41</td>\n",
       "      <td>1</td>\n",
       "      <td>83807.86</td>\n",
       "      <td>1</td>\n",
       "      <td>0</td>\n",
       "      <td>1</td>\n",
       "      <td>112542.58</td>\n",
       "      <td>0</td>\n",
       "    </tr>\n",
       "    <tr>\n",
       "      <th>2</th>\n",
       "      <td>3</td>\n",
       "      <td>15619304</td>\n",
       "      <td>Onio</td>\n",
       "      <td>502</td>\n",
       "      <td>France</td>\n",
       "      <td>Female</td>\n",
       "      <td>42</td>\n",
       "      <td>8</td>\n",
       "      <td>159660.80</td>\n",
       "      <td>3</td>\n",
       "      <td>1</td>\n",
       "      <td>0</td>\n",
       "      <td>113931.57</td>\n",
       "      <td>1</td>\n",
       "    </tr>\n",
       "    <tr>\n",
       "      <th>3</th>\n",
       "      <td>4</td>\n",
       "      <td>15701354</td>\n",
       "      <td>Boni</td>\n",
       "      <td>699</td>\n",
       "      <td>France</td>\n",
       "      <td>Female</td>\n",
       "      <td>39</td>\n",
       "      <td>1</td>\n",
       "      <td>0.00</td>\n",
       "      <td>2</td>\n",
       "      <td>0</td>\n",
       "      <td>0</td>\n",
       "      <td>93826.63</td>\n",
       "      <td>0</td>\n",
       "    </tr>\n",
       "    <tr>\n",
       "      <th>4</th>\n",
       "      <td>5</td>\n",
       "      <td>15737888</td>\n",
       "      <td>Mitchell</td>\n",
       "      <td>850</td>\n",
       "      <td>Spain</td>\n",
       "      <td>Female</td>\n",
       "      <td>43</td>\n",
       "      <td>2</td>\n",
       "      <td>125510.82</td>\n",
       "      <td>1</td>\n",
       "      <td>1</td>\n",
       "      <td>1</td>\n",
       "      <td>79084.10</td>\n",
       "      <td>0</td>\n",
       "    </tr>\n",
       "  </tbody>\n",
       "</table>\n",
       "</div>"
      ],
      "text/plain": [
       "   RowNumber  CustomerId   Surname  CreditScore Geography  Gender  Age  \\\n",
       "0          1    15634602  Hargrave          619    France  Female   42   \n",
       "1          2    15647311      Hill          608     Spain  Female   41   \n",
       "2          3    15619304      Onio          502    France  Female   42   \n",
       "3          4    15701354      Boni          699    France  Female   39   \n",
       "4          5    15737888  Mitchell          850     Spain  Female   43   \n",
       "\n",
       "   Tenure    Balance  NumOfProducts  HasCrCard  IsActiveMember  \\\n",
       "0       2       0.00              1          1               1   \n",
       "1       1   83807.86              1          0               1   \n",
       "2       8  159660.80              3          1               0   \n",
       "3       1       0.00              2          0               0   \n",
       "4       2  125510.82              1          1               1   \n",
       "\n",
       "   EstimatedSalary  Exited  \n",
       "0        101348.88       1  \n",
       "1        112542.58       0  \n",
       "2        113931.57       1  \n",
       "3         93826.63       0  \n",
       "4         79084.10       0  "
      ]
     },
     "execution_count": 23,
     "metadata": {},
     "output_type": "execute_result"
    }
   ],
   "source": [
    "df.head()"
   ]
  },
  {
   "cell_type": "markdown",
   "id": "electoral-marina",
   "metadata": {
    "papermill": {
     "duration": 0.066045,
     "end_time": "2021-05-11T14:59:25.976037",
     "exception": false,
     "start_time": "2021-05-11T14:59:25.909992",
     "status": "completed"
    },
    "tags": []
   },
   "source": [
    "### Data Describe"
   ]
  },
  {
   "cell_type": "code",
   "execution_count": 24,
   "id": "popular-miracle",
   "metadata": {
    "execution": {
     "iopub.execute_input": "2021-05-11T14:59:26.120149Z",
     "iopub.status.busy": "2021-05-11T14:59:26.119382Z",
     "iopub.status.idle": "2021-05-11T14:59:26.644999Z",
     "shell.execute_reply": "2021-05-11T14:59:26.645481Z"
    },
    "papermill": {
     "duration": 0.603322,
     "end_time": "2021-05-11T14:59:26.645661",
     "exception": false,
     "start_time": "2021-05-11T14:59:26.042339",
     "status": "completed"
    },
    "tags": []
   },
   "outputs": [
    {
     "data": {
      "image/png": "[encoded data removed]",
      "text/plain": [
       "<Figure size 864x864 with 1 Axes>"
      ]
     },
     "metadata": {},
     "output_type": "display_data"
    }
   ],
   "source": [
    "desc = df.describe().T\n",
    "df1 = pd.DataFrame(index=['CreditScore', 'Age',\n",
    "                          'Tenure', 'Balance', 'NumOfProducts', 'HasCrCard', 'IsActiveMember', \n",
    "                           'EstimatedSalary', 'Exited'], \n",
    "                   columns= [\"count\",\"mean\",\"std\",\"min\",\n",
    "                             \"25%\",\"50%\",\"75%\",\"max\"], data= desc )\n",
    "\n",
    "f,ax = plt.subplots(figsize=(12,12))\n",
    "\n",
    "sns.heatmap(df1, annot=True,cmap = \"Blues\", fmt= '.0f',\n",
    "            ax=ax,linewidths = 5, cbar = False,\n",
    "            annot_kws={\"size\": 16})\n",
    "\n",
    "plt.xticks(size = 18)\n",
    "plt.yticks(size = 12, rotation = 0)\n",
    "plt.ylabel(\"Variables\")\n",
    "plt.title(\"Descriptive Statistics\", size = 16)\n",
    "plt.show()"
   ]
  },
  {
   "cell_type": "markdown",
   "id": "interesting-chess",
   "metadata": {
    "papermill": {
     "duration": 0.06943,
     "end_time": "2021-05-11T14:59:26.783220",
     "exception": false,
     "start_time": "2021-05-11T14:59:26.713790",
     "status": "completed"
    },
    "tags": []
   },
   "source": [
    "## Data Preprocessing"
   ]
  },
  {
   "cell_type": "code",
   "execution_count": 25,
   "id": "composed-berkeley",
   "metadata": {
    "execution": {
     "iopub.execute_input": "2021-05-11T14:59:26.927359Z",
     "iopub.status.busy": "2021-05-11T14:59:26.926444Z",
     "iopub.status.idle": "2021-05-11T14:59:26.928921Z",
     "shell.execute_reply": "2021-05-11T14:59:26.929367Z"
    },
    "papermill": {
     "duration": 0.07804,
     "end_time": "2021-05-11T14:59:26.929547",
     "exception": false,
     "start_time": "2021-05-11T14:59:26.851507",
     "status": "completed"
    },
    "tags": []
   },
   "outputs": [],
   "source": [
    "df.drop(['CustomerId','Surname'],inplace=True,axis=1)"
   ]
  },
  {
   "cell_type": "code",
   "execution_count": 26,
   "id": "weighted-writer",
   "metadata": {
    "execution": {
     "iopub.execute_input": "2021-05-11T14:59:27.083027Z",
     "iopub.status.busy": "2021-05-11T14:59:27.082125Z",
     "iopub.status.idle": "2021-05-11T14:59:27.086910Z",
     "shell.execute_reply": "2021-05-11T14:59:27.086267Z"
    },
    "papermill": {
     "duration": 0.088561,
     "end_time": "2021-05-11T14:59:27.087053",
     "exception": false,
     "start_time": "2021-05-11T14:59:26.998492",
     "status": "completed"
    },
    "tags": []
   },
   "outputs": [
    {
     "data": {
      "text/html": [
       "<div>\n",
       "<style scoped>\n",
       "    .dataframe tbody tr th:only-of-type {\n",
       "        vertical-align: middle;\n",
       "    }\n",
       "\n",
       "    .dataframe tbody tr th {\n",
       "        vertical-align: top;\n",
       "    }\n",
       "\n",
       "    .dataframe thead th {\n",
       "        text-align: right;\n",
       "    }\n",
       "</style>\n",
       "<table border=\"1\" class=\"dataframe\">\n",
       "  <thead>\n",
       "    <tr style=\"text-align: right;\">\n",
       "      <th></th>\n",
       "      <th>RowNumber</th>\n",
       "      <th>CreditScore</th>\n",
       "      <th>Geography</th>\n",
       "      <th>Gender</th>\n",
       "      <th>Age</th>\n",
       "      <th>Tenure</th>\n",
       "      <th>Balance</th>\n",
       "      <th>NumOfProducts</th>\n",
       "      <th>HasCrCard</th>\n",
       "      <th>IsActiveMember</th>\n",
       "      <th>EstimatedSalary</th>\n",
       "      <th>Exited</th>\n",
       "    </tr>\n",
       "  </thead>\n",
       "  <tbody>\n",
       "    <tr>\n",
       "      <th>0</th>\n",
       "      <td>1</td>\n",
       "      <td>619</td>\n",
       "      <td>France</td>\n",
       "      <td>Female</td>\n",
       "      <td>42</td>\n",
       "      <td>2</td>\n",
       "      <td>0.00</td>\n",
       "      <td>1</td>\n",
       "      <td>1</td>\n",
       "      <td>1</td>\n",
       "      <td>101348.88</td>\n",
       "      <td>1</td>\n",
       "    </tr>\n",
       "    <tr>\n",
       "      <th>1</th>\n",
       "      <td>2</td>\n",
       "      <td>608</td>\n",
       "      <td>Spain</td>\n",
       "      <td>Female</td>\n",
       "      <td>41</td>\n",
       "      <td>1</td>\n",
       "      <td>83807.86</td>\n",
       "      <td>1</td>\n",
       "      <td>0</td>\n",
       "      <td>1</td>\n",
       "      <td>112542.58</td>\n",
       "      <td>0</td>\n",
       "    </tr>\n",
       "    <tr>\n",
       "      <th>2</th>\n",
       "      <td>3</td>\n",
       "      <td>502</td>\n",
       "      <td>France</td>\n",
       "      <td>Female</td>\n",
       "      <td>42</td>\n",
       "      <td>8</td>\n",
       "      <td>159660.80</td>\n",
       "      <td>3</td>\n",
       "      <td>1</td>\n",
       "      <td>0</td>\n",
       "      <td>113931.57</td>\n",
       "      <td>1</td>\n",
       "    </tr>\n",
       "    <tr>\n",
       "      <th>3</th>\n",
       "      <td>4</td>\n",
       "      <td>699</td>\n",
       "      <td>France</td>\n",
       "      <td>Female</td>\n",
       "      <td>39</td>\n",
       "      <td>1</td>\n",
       "      <td>0.00</td>\n",
       "      <td>2</td>\n",
       "      <td>0</td>\n",
       "      <td>0</td>\n",
       "      <td>93826.63</td>\n",
       "      <td>0</td>\n",
       "    </tr>\n",
       "    <tr>\n",
       "      <th>4</th>\n",
       "      <td>5</td>\n",
       "      <td>850</td>\n",
       "      <td>Spain</td>\n",
       "      <td>Female</td>\n",
       "      <td>43</td>\n",
       "      <td>2</td>\n",
       "      <td>125510.82</td>\n",
       "      <td>1</td>\n",
       "      <td>1</td>\n",
       "      <td>1</td>\n",
       "      <td>79084.10</td>\n",
       "      <td>0</td>\n",
       "    </tr>\n",
       "  </tbody>\n",
       "</table>\n",
       "</div>"
      ],
      "text/plain": [
       "   RowNumber  CreditScore Geography  Gender  Age  Tenure    Balance  \\\n",
       "0          1          619    France  Female   42       2       0.00   \n",
       "1          2          608     Spain  Female   41       1   83807.86   \n",
       "2          3          502    France  Female   42       8  159660.80   \n",
       "3          4          699    France  Female   39       1       0.00   \n",
       "4          5          850     Spain  Female   43       2  125510.82   \n",
       "\n",
       "   NumOfProducts  HasCrCard  IsActiveMember  EstimatedSalary  Exited  \n",
       "0              1          1               1        101348.88       1  \n",
       "1              1          0               1        112542.58       0  \n",
       "2              3          1               0        113931.57       1  \n",
       "3              2          0               0         93826.63       0  \n",
       "4              1          1               1         79084.10       0  "
      ]
     },
     "execution_count": 26,
     "metadata": {},
     "output_type": "execute_result"
    }
   ],
   "source": [
    "df.head()"
   ]
  },
  {
   "cell_type": "code",
   "execution_count": 27,
   "id": "pointed-thumb",
   "metadata": {
    "execution": {
     "iopub.execute_input": "2021-05-11T14:59:27.238562Z",
     "iopub.status.busy": "2021-05-11T14:59:27.237953Z",
     "iopub.status.idle": "2021-05-11T14:59:27.240390Z",
     "shell.execute_reply": "2021-05-11T14:59:27.239793Z"
    },
    "papermill": {
     "duration": 0.084236,
     "end_time": "2021-05-11T14:59:27.240519",
     "exception": false,
     "start_time": "2021-05-11T14:59:27.156283",
     "status": "completed"
    },
    "tags": []
   },
   "outputs": [],
   "source": [
    "le = LabelEncoder()\n",
    "df['Geography'] = le.fit_transform(df['Geography'])\n",
    "df['Gender'] = le.fit_transform(df['Gender'])"
   ]
  },
  {
   "cell_type": "code",
   "execution_count": 28,
   "id": "textile-trance",
   "metadata": {
    "execution": {
     "iopub.execute_input": "2021-05-11T14:59:27.381745Z",
     "iopub.status.busy": "2021-05-11T14:59:27.381142Z",
     "iopub.status.idle": "2021-05-11T14:59:27.394493Z",
     "shell.execute_reply": "2021-05-11T14:59:27.394993Z"
    },
    "papermill": {
     "duration": 0.085602,
     "end_time": "2021-05-11T14:59:27.395152",
     "exception": false,
     "start_time": "2021-05-11T14:59:27.309550",
     "status": "completed"
    },
    "tags": []
   },
   "outputs": [
    {
     "data": {
      "text/html": [
       "<div>\n",
       "<style scoped>\n",
       "    .dataframe tbody tr th:only-of-type {\n",
       "        vertical-align: middle;\n",
       "    }\n",
       "\n",
       "    .dataframe tbody tr th {\n",
       "        vertical-align: top;\n",
       "    }\n",
       "\n",
       "    .dataframe thead th {\n",
       "        text-align: right;\n",
       "    }\n",
       "</style>\n",
       "<table border=\"1\" class=\"dataframe\">\n",
       "  <thead>\n",
       "    <tr style=\"text-align: right;\">\n",
       "      <th></th>\n",
       "      <th>RowNumber</th>\n",
       "      <th>CreditScore</th>\n",
       "      <th>Geography</th>\n",
       "      <th>Gender</th>\n",
       "      <th>Age</th>\n",
       "      <th>Tenure</th>\n",
       "      <th>Balance</th>\n",
       "      <th>NumOfProducts</th>\n",
       "      <th>HasCrCard</th>\n",
       "      <th>IsActiveMember</th>\n",
       "      <th>EstimatedSalary</th>\n",
       "      <th>Exited</th>\n",
       "    </tr>\n",
       "  </thead>\n",
       "  <tbody>\n",
       "    <tr>\n",
       "      <th>0</th>\n",
       "      <td>1</td>\n",
       "      <td>619</td>\n",
       "      <td>0</td>\n",
       "      <td>0</td>\n",
       "      <td>42</td>\n",
       "      <td>2</td>\n",
       "      <td>0.00</td>\n",
       "      <td>1</td>\n",
       "      <td>1</td>\n",
       "      <td>1</td>\n",
       "      <td>101348.88</td>\n",
       "      <td>1</td>\n",
       "    </tr>\n",
       "    <tr>\n",
       "      <th>1</th>\n",
       "      <td>2</td>\n",
       "      <td>608</td>\n",
       "      <td>2</td>\n",
       "      <td>0</td>\n",
       "      <td>41</td>\n",
       "      <td>1</td>\n",
       "      <td>83807.86</td>\n",
       "      <td>1</td>\n",
       "      <td>0</td>\n",
       "      <td>1</td>\n",
       "      <td>112542.58</td>\n",
       "      <td>0</td>\n",
       "    </tr>\n",
       "    <tr>\n",
       "      <th>2</th>\n",
       "      <td>3</td>\n",
       "      <td>502</td>\n",
       "      <td>0</td>\n",
       "      <td>0</td>\n",
       "      <td>42</td>\n",
       "      <td>8</td>\n",
       "      <td>159660.80</td>\n",
       "      <td>3</td>\n",
       "      <td>1</td>\n",
       "      <td>0</td>\n",
       "      <td>113931.57</td>\n",
       "      <td>1</td>\n",
       "    </tr>\n",
       "    <tr>\n",
       "      <th>3</th>\n",
       "      <td>4</td>\n",
       "      <td>699</td>\n",
       "      <td>0</td>\n",
       "      <td>0</td>\n",
       "      <td>39</td>\n",
       "      <td>1</td>\n",
       "      <td>0.00</td>\n",
       "      <td>2</td>\n",
       "      <td>0</td>\n",
       "      <td>0</td>\n",
       "      <td>93826.63</td>\n",
       "      <td>0</td>\n",
       "    </tr>\n",
       "    <tr>\n",
       "      <th>4</th>\n",
       "      <td>5</td>\n",
       "      <td>850</td>\n",
       "      <td>2</td>\n",
       "      <td>0</td>\n",
       "      <td>43</td>\n",
       "      <td>2</td>\n",
       "      <td>125510.82</td>\n",
       "      <td>1</td>\n",
       "      <td>1</td>\n",
       "      <td>1</td>\n",
       "      <td>79084.10</td>\n",
       "      <td>0</td>\n",
       "    </tr>\n",
       "  </tbody>\n",
       "</table>\n",
       "</div>"
      ],
      "text/plain": [
       "   RowNumber  CreditScore  Geography  Gender  Age  Tenure    Balance  \\\n",
       "0          1          619          0       0   42       2       0.00   \n",
       "1          2          608          2       0   41       1   83807.86   \n",
       "2          3          502          0       0   42       8  159660.80   \n",
       "3          4          699          0       0   39       1       0.00   \n",
       "4          5          850          2       0   43       2  125510.82   \n",
       "\n",
       "   NumOfProducts  HasCrCard  IsActiveMember  EstimatedSalary  Exited  \n",
       "0              1          1               1        101348.88       1  \n",
       "1              1          0               1        112542.58       0  \n",
       "2              3          1               0        113931.57       1  \n",
       "3              2          0               0         93826.63       0  \n",
       "4              1          1               1         79084.10       0  "
      ]
     },
     "execution_count": 28,
     "metadata": {},
     "output_type": "execute_result"
    }
   ],
   "source": [
    "df.head()"
   ]
  },
  {
   "cell_type": "code",
   "execution_count": 29,
   "id": "excited-barbados",
   "metadata": {
    "execution": {
     "iopub.execute_input": "2021-05-11T14:59:27.538995Z",
     "iopub.status.busy": "2021-05-11T14:59:27.538365Z",
     "iopub.status.idle": "2021-05-11T14:59:27.566432Z",
     "shell.execute_reply": "2021-05-11T14:59:27.565920Z"
    },
    "papermill": {
     "duration": 0.101439,
     "end_time": "2021-05-11T14:59:27.566577",
     "exception": false,
     "start_time": "2021-05-11T14:59:27.465138",
     "status": "completed"
    },
    "tags": []
   },
   "outputs": [
    {
     "data": {
      "text/html": [
       "<div>\n",
       "<style scoped>\n",
       "    .dataframe tbody tr th:only-of-type {\n",
       "        vertical-align: middle;\n",
       "    }\n",
       "\n",
       "    .dataframe tbody tr th {\n",
       "        vertical-align: top;\n",
       "    }\n",
       "\n",
       "    .dataframe thead th {\n",
       "        text-align: right;\n",
       "    }\n",
       "</style>\n",
       "<table border=\"1\" class=\"dataframe\">\n",
       "  <thead>\n",
       "    <tr style=\"text-align: right;\">\n",
       "      <th></th>\n",
       "      <th>EstimatedSalaryBand</th>\n",
       "      <th>Exited</th>\n",
       "    </tr>\n",
       "  </thead>\n",
       "  <tbody>\n",
       "    <tr>\n",
       "      <th>0</th>\n",
       "      <td>(-188.401, 40007.76]</td>\n",
       "      <td>0.201535</td>\n",
       "    </tr>\n",
       "    <tr>\n",
       "      <th>1</th>\n",
       "      <td>(40007.76, 80003.94]</td>\n",
       "      <td>0.198229</td>\n",
       "    </tr>\n",
       "    <tr>\n",
       "      <th>2</th>\n",
       "      <td>(80003.94, 120000.12]</td>\n",
       "      <td>0.200591</td>\n",
       "    </tr>\n",
       "    <tr>\n",
       "      <th>3</th>\n",
       "      <td>(120000.12, 159996.3]</td>\n",
       "      <td>0.202112</td>\n",
       "    </tr>\n",
       "    <tr>\n",
       "      <th>4</th>\n",
       "      <td>(159996.3, 199992.48]</td>\n",
       "      <td>0.216148</td>\n",
       "    </tr>\n",
       "  </tbody>\n",
       "</table>\n",
       "</div>"
      ],
      "text/plain": [
       "     EstimatedSalaryBand    Exited\n",
       "0   (-188.401, 40007.76]  0.201535\n",
       "1   (40007.76, 80003.94]  0.198229\n",
       "2  (80003.94, 120000.12]  0.200591\n",
       "3  (120000.12, 159996.3]  0.202112\n",
       "4  (159996.3, 199992.48]  0.216148"
      ]
     },
     "execution_count": 29,
     "metadata": {},
     "output_type": "execute_result"
    }
   ],
   "source": [
    "df['EstimatedSalaryBand'] = pd.cut(df['EstimatedSalary'], 5)\n",
    "df[['EstimatedSalaryBand', 'Exited']].groupby(['EstimatedSalaryBand'], as_index=False).mean().sort_values(by='EstimatedSalaryBand', ascending=True)"
   ]
  },
  {
   "cell_type": "code",
   "execution_count": 30,
   "id": "cosmetic-processing",
   "metadata": {
    "execution": {
     "iopub.execute_input": "2021-05-11T14:59:27.724427Z",
     "iopub.status.busy": "2021-05-11T14:59:27.723553Z",
     "iopub.status.idle": "2021-05-11T14:59:27.728104Z",
     "shell.execute_reply": "2021-05-11T14:59:27.727480Z"
    },
    "papermill": {
     "duration": 0.091259,
     "end_time": "2021-05-11T14:59:27.728237",
     "exception": false,
     "start_time": "2021-05-11T14:59:27.636978",
     "status": "completed"
    },
    "tags": []
   },
   "outputs": [
    {
     "data": {
      "text/html": [
       "<div>\n",
       "<style scoped>\n",
       "    .dataframe tbody tr th:only-of-type {\n",
       "        vertical-align: middle;\n",
       "    }\n",
       "\n",
       "    .dataframe tbody tr th {\n",
       "        vertical-align: top;\n",
       "    }\n",
       "\n",
       "    .dataframe thead th {\n",
       "        text-align: right;\n",
       "    }\n",
       "</style>\n",
       "<table border=\"1\" class=\"dataframe\">\n",
       "  <thead>\n",
       "    <tr style=\"text-align: right;\">\n",
       "      <th></th>\n",
       "      <th>RowNumber</th>\n",
       "      <th>CreditScore</th>\n",
       "      <th>Geography</th>\n",
       "      <th>Gender</th>\n",
       "      <th>Age</th>\n",
       "      <th>Tenure</th>\n",
       "      <th>Balance</th>\n",
       "      <th>NumOfProducts</th>\n",
       "      <th>HasCrCard</th>\n",
       "      <th>IsActiveMember</th>\n",
       "      <th>EstimatedSalary</th>\n",
       "      <th>Exited</th>\n",
       "      <th>EstimatedSalaryBand</th>\n",
       "    </tr>\n",
       "  </thead>\n",
       "  <tbody>\n",
       "    <tr>\n",
       "      <th>0</th>\n",
       "      <td>1</td>\n",
       "      <td>619</td>\n",
       "      <td>0</td>\n",
       "      <td>0</td>\n",
       "      <td>42</td>\n",
       "      <td>2</td>\n",
       "      <td>0.00</td>\n",
       "      <td>1</td>\n",
       "      <td>1</td>\n",
       "      <td>1</td>\n",
       "      <td>101348.88</td>\n",
       "      <td>1</td>\n",
       "      <td>(80003.94, 120000.12]</td>\n",
       "    </tr>\n",
       "    <tr>\n",
       "      <th>1</th>\n",
       "      <td>2</td>\n",
       "      <td>608</td>\n",
       "      <td>2</td>\n",
       "      <td>0</td>\n",
       "      <td>41</td>\n",
       "      <td>1</td>\n",
       "      <td>83807.86</td>\n",
       "      <td>1</td>\n",
       "      <td>0</td>\n",
       "      <td>1</td>\n",
       "      <td>112542.58</td>\n",
       "      <td>0</td>\n",
       "      <td>(80003.94, 120000.12]</td>\n",
       "    </tr>\n",
       "    <tr>\n",
       "      <th>2</th>\n",
       "      <td>3</td>\n",
       "      <td>502</td>\n",
       "      <td>0</td>\n",
       "      <td>0</td>\n",
       "      <td>42</td>\n",
       "      <td>8</td>\n",
       "      <td>159660.80</td>\n",
       "      <td>3</td>\n",
       "      <td>1</td>\n",
       "      <td>0</td>\n",
       "      <td>113931.57</td>\n",
       "      <td>1</td>\n",
       "      <td>(80003.94, 120000.12]</td>\n",
       "    </tr>\n",
       "    <tr>\n",
       "      <th>3</th>\n",
       "      <td>4</td>\n",
       "      <td>699</td>\n",
       "      <td>0</td>\n",
       "      <td>0</td>\n",
       "      <td>39</td>\n",
       "      <td>1</td>\n",
       "      <td>0.00</td>\n",
       "      <td>2</td>\n",
       "      <td>0</td>\n",
       "      <td>0</td>\n",
       "      <td>93826.63</td>\n",
       "      <td>0</td>\n",
       "      <td>(80003.94, 120000.12]</td>\n",
       "    </tr>\n",
       "    <tr>\n",
       "      <th>4</th>\n",
       "      <td>5</td>\n",
       "      <td>850</td>\n",
       "      <td>2</td>\n",
       "      <td>0</td>\n",
       "      <td>43</td>\n",
       "      <td>2</td>\n",
       "      <td>125510.82</td>\n",
       "      <td>1</td>\n",
       "      <td>1</td>\n",
       "      <td>1</td>\n",
       "      <td>79084.10</td>\n",
       "      <td>0</td>\n",
       "      <td>(40007.76, 80003.94]</td>\n",
       "    </tr>\n",
       "  </tbody>\n",
       "</table>\n",
       "</div>"
      ],
      "text/plain": [
       "   RowNumber  CreditScore  Geography  Gender  Age  Tenure    Balance  \\\n",
       "0          1          619          0       0   42       2       0.00   \n",
       "1          2          608          2       0   41       1   83807.86   \n",
       "2          3          502          0       0   42       8  159660.80   \n",
       "3          4          699          0       0   39       1       0.00   \n",
       "4          5          850          2       0   43       2  125510.82   \n",
       "\n",
       "   NumOfProducts  HasCrCard  IsActiveMember  EstimatedSalary  Exited  \\\n",
       "0              1          1               1        101348.88       1   \n",
       "1              1          0               1        112542.58       0   \n",
       "2              3          1               0        113931.57       1   \n",
       "3              2          0               0         93826.63       0   \n",
       "4              1          1               1         79084.10       0   \n",
       "\n",
       "     EstimatedSalaryBand  \n",
       "0  (80003.94, 120000.12]  \n",
       "1  (80003.94, 120000.12]  \n",
       "2  (80003.94, 120000.12]  \n",
       "3  (80003.94, 120000.12]  \n",
       "4   (40007.76, 80003.94]  "
      ]
     },
     "execution_count": 30,
     "metadata": {},
     "output_type": "execute_result"
    }
   ],
   "source": [
    "df.head()"
   ]
  },
  {
   "cell_type": "code",
   "execution_count": 31,
   "id": "closed-monroe",
   "metadata": {
    "execution": {
     "iopub.execute_input": "2021-05-11T14:59:27.880709Z",
     "iopub.status.busy": "2021-05-11T14:59:27.879685Z",
     "iopub.status.idle": "2021-05-11T14:59:27.900565Z",
     "shell.execute_reply": "2021-05-11T14:59:27.900077Z"
    },
    "papermill": {
     "duration": 0.101488,
     "end_time": "2021-05-11T14:59:27.900722",
     "exception": false,
     "start_time": "2021-05-11T14:59:27.799234",
     "status": "completed"
    },
    "tags": []
   },
   "outputs": [
    {
     "data": {
      "text/html": [
       "<div>\n",
       "<style scoped>\n",
       "    .dataframe tbody tr th:only-of-type {\n",
       "        vertical-align: middle;\n",
       "    }\n",
       "\n",
       "    .dataframe tbody tr th {\n",
       "        vertical-align: top;\n",
       "    }\n",
       "\n",
       "    .dataframe thead th {\n",
       "        text-align: right;\n",
       "    }\n",
       "</style>\n",
       "<table border=\"1\" class=\"dataframe\">\n",
       "  <thead>\n",
       "    <tr style=\"text-align: right;\">\n",
       "      <th></th>\n",
       "      <th>RowNumber</th>\n",
       "      <th>CreditScore</th>\n",
       "      <th>Geography</th>\n",
       "      <th>Gender</th>\n",
       "      <th>Age</th>\n",
       "      <th>Tenure</th>\n",
       "      <th>Balance</th>\n",
       "      <th>NumOfProducts</th>\n",
       "      <th>HasCrCard</th>\n",
       "      <th>IsActiveMember</th>\n",
       "      <th>EstimatedSalary</th>\n",
       "      <th>Exited</th>\n",
       "      <th>EstimatedSalaryBand</th>\n",
       "    </tr>\n",
       "  </thead>\n",
       "  <tbody>\n",
       "    <tr>\n",
       "      <th>0</th>\n",
       "      <td>1</td>\n",
       "      <td>619</td>\n",
       "      <td>0</td>\n",
       "      <td>0</td>\n",
       "      <td>42</td>\n",
       "      <td>2</td>\n",
       "      <td>0.00</td>\n",
       "      <td>1</td>\n",
       "      <td>1</td>\n",
       "      <td>1</td>\n",
       "      <td>2.0</td>\n",
       "      <td>1</td>\n",
       "      <td>(80003.94, 120000.12]</td>\n",
       "    </tr>\n",
       "    <tr>\n",
       "      <th>1</th>\n",
       "      <td>2</td>\n",
       "      <td>608</td>\n",
       "      <td>2</td>\n",
       "      <td>0</td>\n",
       "      <td>41</td>\n",
       "      <td>1</td>\n",
       "      <td>83807.86</td>\n",
       "      <td>1</td>\n",
       "      <td>0</td>\n",
       "      <td>1</td>\n",
       "      <td>2.0</td>\n",
       "      <td>0</td>\n",
       "      <td>(80003.94, 120000.12]</td>\n",
       "    </tr>\n",
       "    <tr>\n",
       "      <th>2</th>\n",
       "      <td>3</td>\n",
       "      <td>502</td>\n",
       "      <td>0</td>\n",
       "      <td>0</td>\n",
       "      <td>42</td>\n",
       "      <td>8</td>\n",
       "      <td>159660.80</td>\n",
       "      <td>3</td>\n",
       "      <td>1</td>\n",
       "      <td>0</td>\n",
       "      <td>2.0</td>\n",
       "      <td>1</td>\n",
       "      <td>(80003.94, 120000.12]</td>\n",
       "    </tr>\n",
       "    <tr>\n",
       "      <th>3</th>\n",
       "      <td>4</td>\n",
       "      <td>699</td>\n",
       "      <td>0</td>\n",
       "      <td>0</td>\n",
       "      <td>39</td>\n",
       "      <td>1</td>\n",
       "      <td>0.00</td>\n",
       "      <td>2</td>\n",
       "      <td>0</td>\n",
       "      <td>0</td>\n",
       "      <td>2.0</td>\n",
       "      <td>0</td>\n",
       "      <td>(80003.94, 120000.12]</td>\n",
       "    </tr>\n",
       "    <tr>\n",
       "      <th>4</th>\n",
       "      <td>5</td>\n",
       "      <td>850</td>\n",
       "      <td>2</td>\n",
       "      <td>0</td>\n",
       "      <td>43</td>\n",
       "      <td>2</td>\n",
       "      <td>125510.82</td>\n",
       "      <td>1</td>\n",
       "      <td>1</td>\n",
       "      <td>1</td>\n",
       "      <td>1.0</td>\n",
       "      <td>0</td>\n",
       "      <td>(40007.76, 80003.94]</td>\n",
       "    </tr>\n",
       "  </tbody>\n",
       "</table>\n",
       "</div>"
      ],
      "text/plain": [
       "   RowNumber  CreditScore  Geography  Gender  Age  Tenure    Balance  \\\n",
       "0          1          619          0       0   42       2       0.00   \n",
       "1          2          608          2       0   41       1   83807.86   \n",
       "2          3          502          0       0   42       8  159660.80   \n",
       "3          4          699          0       0   39       1       0.00   \n",
       "4          5          850          2       0   43       2  125510.82   \n",
       "\n",
       "   NumOfProducts  HasCrCard  IsActiveMember  EstimatedSalary  Exited  \\\n",
       "0              1          1               1              2.0       1   \n",
       "1              1          0               1              2.0       0   \n",
       "2              3          1               0              2.0       1   \n",
       "3              2          0               0              2.0       0   \n",
       "4              1          1               1              1.0       0   \n",
       "\n",
       "     EstimatedSalaryBand  \n",
       "0  (80003.94, 120000.12]  \n",
       "1  (80003.94, 120000.12]  \n",
       "2  (80003.94, 120000.12]  \n",
       "3  (80003.94, 120000.12]  \n",
       "4   (40007.76, 80003.94]  "
      ]
     },
     "execution_count": 31,
     "metadata": {},
     "output_type": "execute_result"
    }
   ],
   "source": [
    "df.loc[df['EstimatedSalary'] <= 40007, 'EstimatedSalary'] = 0\n",
    "df.loc[(df['EstimatedSalary'] > 40007) & (df['EstimatedSalary'] <= 80003), 'EstimatedSalary'] = 1\n",
    "df.loc[(df['EstimatedSalary'] > 80003) & (df['EstimatedSalary'] <= 120000), 'EstimatedSalary'] = 2\n",
    "df.loc[(df['EstimatedSalary'] > 120000) & (df['EstimatedSalary'] <= 159996), 'EstimatedSalary'] = 3\n",
    "df.loc[df['EstimatedSalary'] > 159996, 'EstimatedSalary'] = 4\n",
    "\n",
    "df.head()"
   ]
  },
  {
   "cell_type": "code",
   "execution_count": 32,
   "id": "consecutive-childhood",
   "metadata": {
    "execution": {
     "iopub.execute_input": "2021-05-11T14:59:28.052447Z",
     "iopub.status.busy": "2021-05-11T14:59:28.051365Z",
     "iopub.status.idle": "2021-05-11T14:59:28.056340Z",
     "shell.execute_reply": "2021-05-11T14:59:28.055396Z"
    },
    "papermill": {
     "duration": 0.083929,
     "end_time": "2021-05-11T14:59:28.056545",
     "exception": false,
     "start_time": "2021-05-11T14:59:27.972616",
     "status": "completed"
    },
    "tags": []
   },
   "outputs": [
    {
     "data": {
      "text/plain": [
       "array([2., 1., 3., 0., 4.])"
      ]
     },
     "execution_count": 32,
     "metadata": {},
     "output_type": "execute_result"
    }
   ],
   "source": [
    "df.EstimatedSalary.unique()"
   ]
  },
  {
   "cell_type": "code",
   "execution_count": 33,
   "id": "welsh-access",
   "metadata": {
    "execution": {
     "iopub.execute_input": "2021-05-11T14:59:28.208999Z",
     "iopub.status.busy": "2021-05-11T14:59:28.208018Z",
     "iopub.status.idle": "2021-05-11T14:59:28.213538Z",
     "shell.execute_reply": "2021-05-11T14:59:28.214090Z"
    },
    "papermill": {
     "duration": 0.081808,
     "end_time": "2021-05-11T14:59:28.214270",
     "exception": false,
     "start_time": "2021-05-11T14:59:28.132462",
     "status": "completed"
    },
    "tags": []
   },
   "outputs": [],
   "source": [
    "df.drop('EstimatedSalaryBand',axis=1,inplace=True)"
   ]
  },
  {
   "cell_type": "code",
   "execution_count": 34,
   "id": "greatest-composer",
   "metadata": {
    "execution": {
     "iopub.execute_input": "2021-05-11T14:59:28.364444Z",
     "iopub.status.busy": "2021-05-11T14:59:28.363450Z",
     "iopub.status.idle": "2021-05-11T14:59:28.378175Z",
     "shell.execute_reply": "2021-05-11T14:59:28.378628Z"
    },
    "papermill": {
     "duration": 0.090757,
     "end_time": "2021-05-11T14:59:28.378796",
     "exception": false,
     "start_time": "2021-05-11T14:59:28.288039",
     "status": "completed"
    },
    "tags": []
   },
   "outputs": [
    {
     "data": {
      "text/html": [
       "<div>\n",
       "<style scoped>\n",
       "    .dataframe tbody tr th:only-of-type {\n",
       "        vertical-align: middle;\n",
       "    }\n",
       "\n",
       "    .dataframe tbody tr th {\n",
       "        vertical-align: top;\n",
       "    }\n",
       "\n",
       "    .dataframe thead th {\n",
       "        text-align: right;\n",
       "    }\n",
       "</style>\n",
       "<table border=\"1\" class=\"dataframe\">\n",
       "  <thead>\n",
       "    <tr style=\"text-align: right;\">\n",
       "      <th></th>\n",
       "      <th>RowNumber</th>\n",
       "      <th>CreditScore</th>\n",
       "      <th>Geography</th>\n",
       "      <th>Gender</th>\n",
       "      <th>Age</th>\n",
       "      <th>Tenure</th>\n",
       "      <th>Balance</th>\n",
       "      <th>NumOfProducts</th>\n",
       "      <th>HasCrCard</th>\n",
       "      <th>IsActiveMember</th>\n",
       "      <th>EstimatedSalary</th>\n",
       "      <th>Exited</th>\n",
       "    </tr>\n",
       "  </thead>\n",
       "  <tbody>\n",
       "    <tr>\n",
       "      <th>0</th>\n",
       "      <td>1</td>\n",
       "      <td>619</td>\n",
       "      <td>0</td>\n",
       "      <td>0</td>\n",
       "      <td>42</td>\n",
       "      <td>2</td>\n",
       "      <td>0.00</td>\n",
       "      <td>1</td>\n",
       "      <td>1</td>\n",
       "      <td>1</td>\n",
       "      <td>2.0</td>\n",
       "      <td>1</td>\n",
       "    </tr>\n",
       "    <tr>\n",
       "      <th>1</th>\n",
       "      <td>2</td>\n",
       "      <td>608</td>\n",
       "      <td>2</td>\n",
       "      <td>0</td>\n",
       "      <td>41</td>\n",
       "      <td>1</td>\n",
       "      <td>83807.86</td>\n",
       "      <td>1</td>\n",
       "      <td>0</td>\n",
       "      <td>1</td>\n",
       "      <td>2.0</td>\n",
       "      <td>0</td>\n",
       "    </tr>\n",
       "    <tr>\n",
       "      <th>2</th>\n",
       "      <td>3</td>\n",
       "      <td>502</td>\n",
       "      <td>0</td>\n",
       "      <td>0</td>\n",
       "      <td>42</td>\n",
       "      <td>8</td>\n",
       "      <td>159660.80</td>\n",
       "      <td>3</td>\n",
       "      <td>1</td>\n",
       "      <td>0</td>\n",
       "      <td>2.0</td>\n",
       "      <td>1</td>\n",
       "    </tr>\n",
       "    <tr>\n",
       "      <th>3</th>\n",
       "      <td>4</td>\n",
       "      <td>699</td>\n",
       "      <td>0</td>\n",
       "      <td>0</td>\n",
       "      <td>39</td>\n",
       "      <td>1</td>\n",
       "      <td>0.00</td>\n",
       "      <td>2</td>\n",
       "      <td>0</td>\n",
       "      <td>0</td>\n",
       "      <td>2.0</td>\n",
       "      <td>0</td>\n",
       "    </tr>\n",
       "    <tr>\n",
       "      <th>4</th>\n",
       "      <td>5</td>\n",
       "      <td>850</td>\n",
       "      <td>2</td>\n",
       "      <td>0</td>\n",
       "      <td>43</td>\n",
       "      <td>2</td>\n",
       "      <td>125510.82</td>\n",
       "      <td>1</td>\n",
       "      <td>1</td>\n",
       "      <td>1</td>\n",
       "      <td>1.0</td>\n",
       "      <td>0</td>\n",
       "    </tr>\n",
       "  </tbody>\n",
       "</table>\n",
       "</div>"
      ],
      "text/plain": [
       "   RowNumber  CreditScore  Geography  Gender  Age  Tenure    Balance  \\\n",
       "0          1          619          0       0   42       2       0.00   \n",
       "1          2          608          2       0   41       1   83807.86   \n",
       "2          3          502          0       0   42       8  159660.80   \n",
       "3          4          699          0       0   39       1       0.00   \n",
       "4          5          850          2       0   43       2  125510.82   \n",
       "\n",
       "   NumOfProducts  HasCrCard  IsActiveMember  EstimatedSalary  Exited  \n",
       "0              1          1               1              2.0       1  \n",
       "1              1          0               1              2.0       0  \n",
       "2              3          1               0              2.0       1  \n",
       "3              2          0               0              2.0       0  \n",
       "4              1          1               1              1.0       0  "
      ]
     },
     "execution_count": 34,
     "metadata": {},
     "output_type": "execute_result"
    }
   ],
   "source": [
    "df.head()"
   ]
  },
  {
   "cell_type": "code",
   "execution_count": 35,
   "id": "developing-quest",
   "metadata": {
    "execution": {
     "iopub.execute_input": "2021-05-11T14:59:28.529581Z",
     "iopub.status.busy": "2021-05-11T14:59:28.528655Z",
     "iopub.status.idle": "2021-05-11T14:59:28.548903Z",
     "shell.execute_reply": "2021-05-11T14:59:28.548318Z"
    },
    "papermill": {
     "duration": 0.097237,
     "end_time": "2021-05-11T14:59:28.549047",
     "exception": false,
     "start_time": "2021-05-11T14:59:28.451810",
     "status": "completed"
    },
    "tags": []
   },
   "outputs": [
    {
     "data": {
      "text/html": [
       "<div>\n",
       "<style scoped>\n",
       "    .dataframe tbody tr th:only-of-type {\n",
       "        vertical-align: middle;\n",
       "    }\n",
       "\n",
       "    .dataframe tbody tr th {\n",
       "        vertical-align: top;\n",
       "    }\n",
       "\n",
       "    .dataframe thead th {\n",
       "        text-align: right;\n",
       "    }\n",
       "</style>\n",
       "<table border=\"1\" class=\"dataframe\">\n",
       "  <thead>\n",
       "    <tr style=\"text-align: right;\">\n",
       "      <th></th>\n",
       "      <th>BalanceBand</th>\n",
       "      <th>Exited</th>\n",
       "    </tr>\n",
       "  </thead>\n",
       "  <tbody>\n",
       "    <tr>\n",
       "      <th>0</th>\n",
       "      <td>(-250.898, 50179.618]</td>\n",
       "      <td>0.142470</td>\n",
       "    </tr>\n",
       "    <tr>\n",
       "      <th>1</th>\n",
       "      <td>(50179.618, 100359.236]</td>\n",
       "      <td>0.199609</td>\n",
       "    </tr>\n",
       "    <tr>\n",
       "      <th>2</th>\n",
       "      <td>(100359.236, 150538.854]</td>\n",
       "      <td>0.257837</td>\n",
       "    </tr>\n",
       "    <tr>\n",
       "      <th>3</th>\n",
       "      <td>(150538.854, 200718.472]</td>\n",
       "      <td>0.217486</td>\n",
       "    </tr>\n",
       "    <tr>\n",
       "      <th>4</th>\n",
       "      <td>(200718.472, 250898.09]</td>\n",
       "      <td>0.593750</td>\n",
       "    </tr>\n",
       "  </tbody>\n",
       "</table>\n",
       "</div>"
      ],
      "text/plain": [
       "                BalanceBand    Exited\n",
       "0     (-250.898, 50179.618]  0.142470\n",
       "1   (50179.618, 100359.236]  0.199609\n",
       "2  (100359.236, 150538.854]  0.257837\n",
       "3  (150538.854, 200718.472]  0.217486\n",
       "4   (200718.472, 250898.09]  0.593750"
      ]
     },
     "execution_count": 35,
     "metadata": {},
     "output_type": "execute_result"
    }
   ],
   "source": [
    "df['BalanceBand'] = pd.cut(df['Balance'], 5)\n",
    "df[['BalanceBand', 'Exited']].groupby(['BalanceBand'], as_index=False).mean().sort_values(by='BalanceBand', ascending=True)"
   ]
  },
  {
   "cell_type": "code",
   "execution_count": 36,
   "id": "primary-romania",
   "metadata": {
    "execution": {
     "iopub.execute_input": "2021-05-11T14:59:28.713126Z",
     "iopub.status.busy": "2021-05-11T14:59:28.706064Z",
     "iopub.status.idle": "2021-05-11T14:59:28.717414Z",
     "shell.execute_reply": "2021-05-11T14:59:28.716907Z"
    },
    "papermill": {
     "duration": 0.094612,
     "end_time": "2021-05-11T14:59:28.717562",
     "exception": false,
     "start_time": "2021-05-11T14:59:28.622950",
     "status": "completed"
    },
    "tags": []
   },
   "outputs": [
    {
     "data": {
      "text/html": [
       "<div>\n",
       "<style scoped>\n",
       "    .dataframe tbody tr th:only-of-type {\n",
       "        vertical-align: middle;\n",
       "    }\n",
       "\n",
       "    .dataframe tbody tr th {\n",
       "        vertical-align: top;\n",
       "    }\n",
       "\n",
       "    .dataframe thead th {\n",
       "        text-align: right;\n",
       "    }\n",
       "</style>\n",
       "<table border=\"1\" class=\"dataframe\">\n",
       "  <thead>\n",
       "    <tr style=\"text-align: right;\">\n",
       "      <th></th>\n",
       "      <th>RowNumber</th>\n",
       "      <th>CreditScore</th>\n",
       "      <th>Geography</th>\n",
       "      <th>Gender</th>\n",
       "      <th>Age</th>\n",
       "      <th>Tenure</th>\n",
       "      <th>Balance</th>\n",
       "      <th>NumOfProducts</th>\n",
       "      <th>HasCrCard</th>\n",
       "      <th>IsActiveMember</th>\n",
       "      <th>EstimatedSalary</th>\n",
       "      <th>Exited</th>\n",
       "      <th>BalanceBand</th>\n",
       "    </tr>\n",
       "  </thead>\n",
       "  <tbody>\n",
       "    <tr>\n",
       "      <th>0</th>\n",
       "      <td>1</td>\n",
       "      <td>619</td>\n",
       "      <td>0</td>\n",
       "      <td>0</td>\n",
       "      <td>42</td>\n",
       "      <td>2</td>\n",
       "      <td>0.00</td>\n",
       "      <td>1</td>\n",
       "      <td>1</td>\n",
       "      <td>1</td>\n",
       "      <td>2.0</td>\n",
       "      <td>1</td>\n",
       "      <td>(-250.898, 50179.618]</td>\n",
       "    </tr>\n",
       "    <tr>\n",
       "      <th>1</th>\n",
       "      <td>2</td>\n",
       "      <td>608</td>\n",
       "      <td>2</td>\n",
       "      <td>0</td>\n",
       "      <td>41</td>\n",
       "      <td>1</td>\n",
       "      <td>83807.86</td>\n",
       "      <td>1</td>\n",
       "      <td>0</td>\n",
       "      <td>1</td>\n",
       "      <td>2.0</td>\n",
       "      <td>0</td>\n",
       "      <td>(50179.618, 100359.236]</td>\n",
       "    </tr>\n",
       "    <tr>\n",
       "      <th>2</th>\n",
       "      <td>3</td>\n",
       "      <td>502</td>\n",
       "      <td>0</td>\n",
       "      <td>0</td>\n",
       "      <td>42</td>\n",
       "      <td>8</td>\n",
       "      <td>159660.80</td>\n",
       "      <td>3</td>\n",
       "      <td>1</td>\n",
       "      <td>0</td>\n",
       "      <td>2.0</td>\n",
       "      <td>1</td>\n",
       "      <td>(150538.854, 200718.472]</td>\n",
       "    </tr>\n",
       "    <tr>\n",
       "      <th>3</th>\n",
       "      <td>4</td>\n",
       "      <td>699</td>\n",
       "      <td>0</td>\n",
       "      <td>0</td>\n",
       "      <td>39</td>\n",
       "      <td>1</td>\n",
       "      <td>0.00</td>\n",
       "      <td>2</td>\n",
       "      <td>0</td>\n",
       "      <td>0</td>\n",
       "      <td>2.0</td>\n",
       "      <td>0</td>\n",
       "      <td>(-250.898, 50179.618]</td>\n",
       "    </tr>\n",
       "    <tr>\n",
       "      <th>4</th>\n",
       "      <td>5</td>\n",
       "      <td>850</td>\n",
       "      <td>2</td>\n",
       "      <td>0</td>\n",
       "      <td>43</td>\n",
       "      <td>2</td>\n",
       "      <td>125510.82</td>\n",
       "      <td>1</td>\n",
       "      <td>1</td>\n",
       "      <td>1</td>\n",
       "      <td>1.0</td>\n",
       "      <td>0</td>\n",
       "      <td>(100359.236, 150538.854]</td>\n",
       "    </tr>\n",
       "  </tbody>\n",
       "</table>\n",
       "</div>"
      ],
      "text/plain": [
       "   RowNumber  CreditScore  Geography  Gender  Age  Tenure    Balance  \\\n",
       "0          1          619          0       0   42       2       0.00   \n",
       "1          2          608          2       0   41       1   83807.86   \n",
       "2          3          502          0       0   42       8  159660.80   \n",
       "3          4          699          0       0   39       1       0.00   \n",
       "4          5          850          2       0   43       2  125510.82   \n",
       "\n",
       "   NumOfProducts  HasCrCard  IsActiveMember  EstimatedSalary  Exited  \\\n",
       "0              1          1               1              2.0       1   \n",
       "1              1          0               1              2.0       0   \n",
       "2              3          1               0              2.0       1   \n",
       "3              2          0               0              2.0       0   \n",
       "4              1          1               1              1.0       0   \n",
       "\n",
       "                BalanceBand  \n",
       "0     (-250.898, 50179.618]  \n",
       "1   (50179.618, 100359.236]  \n",
       "2  (150538.854, 200718.472]  \n",
       "3     (-250.898, 50179.618]  \n",
       "4  (100359.236, 150538.854]  "
      ]
     },
     "execution_count": 36,
     "metadata": {},
     "output_type": "execute_result"
    }
   ],
   "source": [
    "df.head()"
   ]
  },
  {
   "cell_type": "code",
   "execution_count": 37,
   "id": "lasting-morgan",
   "metadata": {
    "execution": {
     "iopub.execute_input": "2021-05-11T14:59:28.875941Z",
     "iopub.status.busy": "2021-05-11T14:59:28.875189Z",
     "iopub.status.idle": "2021-05-11T14:59:28.899767Z",
     "shell.execute_reply": "2021-05-11T14:59:28.900248Z"
    },
    "papermill": {
     "duration": 0.1086,
     "end_time": "2021-05-11T14:59:28.900421",
     "exception": false,
     "start_time": "2021-05-11T14:59:28.791821",
     "status": "completed"
    },
    "tags": []
   },
   "outputs": [
    {
     "data": {
      "text/html": [
       "<div>\n",
       "<style scoped>\n",
       "    .dataframe tbody tr th:only-of-type {\n",
       "        vertical-align: middle;\n",
       "    }\n",
       "\n",
       "    .dataframe tbody tr th {\n",
       "        vertical-align: top;\n",
       "    }\n",
       "\n",
       "    .dataframe thead th {\n",
       "        text-align: right;\n",
       "    }\n",
       "</style>\n",
       "<table border=\"1\" class=\"dataframe\">\n",
       "  <thead>\n",
       "    <tr style=\"text-align: right;\">\n",
       "      <th></th>\n",
       "      <th>RowNumber</th>\n",
       "      <th>CreditScore</th>\n",
       "      <th>Geography</th>\n",
       "      <th>Gender</th>\n",
       "      <th>Age</th>\n",
       "      <th>Tenure</th>\n",
       "      <th>Balance</th>\n",
       "      <th>NumOfProducts</th>\n",
       "      <th>HasCrCard</th>\n",
       "      <th>IsActiveMember</th>\n",
       "      <th>EstimatedSalary</th>\n",
       "      <th>Exited</th>\n",
       "      <th>BalanceBand</th>\n",
       "    </tr>\n",
       "  </thead>\n",
       "  <tbody>\n",
       "    <tr>\n",
       "      <th>0</th>\n",
       "      <td>1</td>\n",
       "      <td>619</td>\n",
       "      <td>0</td>\n",
       "      <td>0</td>\n",
       "      <td>42</td>\n",
       "      <td>2</td>\n",
       "      <td>0.0</td>\n",
       "      <td>1</td>\n",
       "      <td>1</td>\n",
       "      <td>1</td>\n",
       "      <td>2.0</td>\n",
       "      <td>1</td>\n",
       "      <td>(-250.898, 50179.618]</td>\n",
       "    </tr>\n",
       "    <tr>\n",
       "      <th>1</th>\n",
       "      <td>2</td>\n",
       "      <td>608</td>\n",
       "      <td>2</td>\n",
       "      <td>0</td>\n",
       "      <td>41</td>\n",
       "      <td>1</td>\n",
       "      <td>3.0</td>\n",
       "      <td>1</td>\n",
       "      <td>0</td>\n",
       "      <td>1</td>\n",
       "      <td>2.0</td>\n",
       "      <td>0</td>\n",
       "      <td>(50179.618, 100359.236]</td>\n",
       "    </tr>\n",
       "    <tr>\n",
       "      <th>2</th>\n",
       "      <td>3</td>\n",
       "      <td>502</td>\n",
       "      <td>0</td>\n",
       "      <td>0</td>\n",
       "      <td>42</td>\n",
       "      <td>8</td>\n",
       "      <td>5.0</td>\n",
       "      <td>3</td>\n",
       "      <td>1</td>\n",
       "      <td>0</td>\n",
       "      <td>2.0</td>\n",
       "      <td>1</td>\n",
       "      <td>(150538.854, 200718.472]</td>\n",
       "    </tr>\n",
       "    <tr>\n",
       "      <th>3</th>\n",
       "      <td>4</td>\n",
       "      <td>699</td>\n",
       "      <td>0</td>\n",
       "      <td>0</td>\n",
       "      <td>39</td>\n",
       "      <td>1</td>\n",
       "      <td>0.0</td>\n",
       "      <td>2</td>\n",
       "      <td>0</td>\n",
       "      <td>0</td>\n",
       "      <td>2.0</td>\n",
       "      <td>0</td>\n",
       "      <td>(-250.898, 50179.618]</td>\n",
       "    </tr>\n",
       "    <tr>\n",
       "      <th>4</th>\n",
       "      <td>5</td>\n",
       "      <td>850</td>\n",
       "      <td>2</td>\n",
       "      <td>0</td>\n",
       "      <td>43</td>\n",
       "      <td>2</td>\n",
       "      <td>4.0</td>\n",
       "      <td>1</td>\n",
       "      <td>1</td>\n",
       "      <td>1</td>\n",
       "      <td>1.0</td>\n",
       "      <td>0</td>\n",
       "      <td>(100359.236, 150538.854]</td>\n",
       "    </tr>\n",
       "  </tbody>\n",
       "</table>\n",
       "</div>"
      ],
      "text/plain": [
       "   RowNumber  CreditScore  Geography  Gender  Age  Tenure  Balance  \\\n",
       "0          1          619          0       0   42       2      0.0   \n",
       "1          2          608          2       0   41       1      3.0   \n",
       "2          3          502          0       0   42       8      5.0   \n",
       "3          4          699          0       0   39       1      0.0   \n",
       "4          5          850          2       0   43       2      4.0   \n",
       "\n",
       "   NumOfProducts  HasCrCard  IsActiveMember  EstimatedSalary  Exited  \\\n",
       "0              1          1               1              2.0       1   \n",
       "1              1          0               1              2.0       0   \n",
       "2              3          1               0              2.0       1   \n",
       "3              2          0               0              2.0       0   \n",
       "4              1          1               1              1.0       0   \n",
       "\n",
       "                BalanceBand  \n",
       "0     (-250.898, 50179.618]  \n",
       "1   (50179.618, 100359.236]  \n",
       "2  (150538.854, 200718.472]  \n",
       "3     (-250.898, 50179.618]  \n",
       "4  (100359.236, 150538.854]  "
      ]
     },
     "execution_count": 37,
     "metadata": {},
     "output_type": "execute_result"
    }
   ],
   "source": [
    "df.loc[df['Balance'] <= 0, 'Balance'] = 0\n",
    "df.loc[(df['Balance'] > 0) & (df['Balance'] <= 251), 'Balance'] = 1\n",
    "df.loc[(df['Balance'] > 251) & (df['Balance'] <= 50179), 'Balance'] = 2\n",
    "df.loc[(df['Balance'] > 50179) & (df['Balance'] <= 100359), 'Balance'] = 3\n",
    "df.loc[(df['Balance'] > 100359) & (df['Balance'] <= 150538), 'Balance'] = 4\n",
    "df.loc[(df['Balance'] > 150538) & (df['Balance'] <= 200718), 'Balance'] = 5\n",
    "df.loc[(df['Balance'] > 200718) & (df['Balance'] <= 250000), 'Balance'] = 6\n",
    "df.head()"
   ]
  },
  {
   "cell_type": "code",
   "execution_count": 38,
   "id": "premier-pledge",
   "metadata": {
    "execution": {
     "iopub.execute_input": "2021-05-11T14:59:29.057743Z",
     "iopub.status.busy": "2021-05-11T14:59:29.056562Z",
     "iopub.status.idle": "2021-05-11T14:59:29.059044Z",
     "shell.execute_reply": "2021-05-11T14:59:29.059526Z"
    },
    "papermill": {
     "duration": 0.084219,
     "end_time": "2021-05-11T14:59:29.059706",
     "exception": false,
     "start_time": "2021-05-11T14:59:28.975487",
     "status": "completed"
    },
    "tags": []
   },
   "outputs": [],
   "source": [
    "df.drop(['BalanceBand'],axis=1,inplace=True)"
   ]
  },
  {
   "cell_type": "code",
   "execution_count": 39,
   "id": "light-invalid",
   "metadata": {
    "execution": {
     "iopub.execute_input": "2021-05-11T14:59:29.214297Z",
     "iopub.status.busy": "2021-05-11T14:59:29.213295Z",
     "iopub.status.idle": "2021-05-11T14:59:29.228640Z",
     "shell.execute_reply": "2021-05-11T14:59:29.229203Z"
    },
    "papermill": {
     "duration": 0.09425,
     "end_time": "2021-05-11T14:59:29.229377",
     "exception": false,
     "start_time": "2021-05-11T14:59:29.135127",
     "status": "completed"
    },
    "tags": []
   },
   "outputs": [
    {
     "data": {
      "text/html": [
       "<div>\n",
       "<style scoped>\n",
       "    .dataframe tbody tr th:only-of-type {\n",
       "        vertical-align: middle;\n",
       "    }\n",
       "\n",
       "    .dataframe tbody tr th {\n",
       "        vertical-align: top;\n",
       "    }\n",
       "\n",
       "    .dataframe thead th {\n",
       "        text-align: right;\n",
       "    }\n",
       "</style>\n",
       "<table border=\"1\" class=\"dataframe\">\n",
       "  <thead>\n",
       "    <tr style=\"text-align: right;\">\n",
       "      <th></th>\n",
       "      <th>RowNumber</th>\n",
       "      <th>CreditScore</th>\n",
       "      <th>Geography</th>\n",
       "      <th>Gender</th>\n",
       "      <th>Age</th>\n",
       "      <th>Tenure</th>\n",
       "      <th>Balance</th>\n",
       "      <th>NumOfProducts</th>\n",
       "      <th>HasCrCard</th>\n",
       "      <th>IsActiveMember</th>\n",
       "      <th>EstimatedSalary</th>\n",
       "      <th>Exited</th>\n",
       "    </tr>\n",
       "  </thead>\n",
       "  <tbody>\n",
       "    <tr>\n",
       "      <th>0</th>\n",
       "      <td>1</td>\n",
       "      <td>619</td>\n",
       "      <td>0</td>\n",
       "      <td>0</td>\n",
       "      <td>42</td>\n",
       "      <td>2</td>\n",
       "      <td>0.0</td>\n",
       "      <td>1</td>\n",
       "      <td>1</td>\n",
       "      <td>1</td>\n",
       "      <td>2.0</td>\n",
       "      <td>1</td>\n",
       "    </tr>\n",
       "    <tr>\n",
       "      <th>1</th>\n",
       "      <td>2</td>\n",
       "      <td>608</td>\n",
       "      <td>2</td>\n",
       "      <td>0</td>\n",
       "      <td>41</td>\n",
       "      <td>1</td>\n",
       "      <td>3.0</td>\n",
       "      <td>1</td>\n",
       "      <td>0</td>\n",
       "      <td>1</td>\n",
       "      <td>2.0</td>\n",
       "      <td>0</td>\n",
       "    </tr>\n",
       "    <tr>\n",
       "      <th>2</th>\n",
       "      <td>3</td>\n",
       "      <td>502</td>\n",
       "      <td>0</td>\n",
       "      <td>0</td>\n",
       "      <td>42</td>\n",
       "      <td>8</td>\n",
       "      <td>5.0</td>\n",
       "      <td>3</td>\n",
       "      <td>1</td>\n",
       "      <td>0</td>\n",
       "      <td>2.0</td>\n",
       "      <td>1</td>\n",
       "    </tr>\n",
       "    <tr>\n",
       "      <th>3</th>\n",
       "      <td>4</td>\n",
       "      <td>699</td>\n",
       "      <td>0</td>\n",
       "      <td>0</td>\n",
       "      <td>39</td>\n",
       "      <td>1</td>\n",
       "      <td>0.0</td>\n",
       "      <td>2</td>\n",
       "      <td>0</td>\n",
       "      <td>0</td>\n",
       "      <td>2.0</td>\n",
       "      <td>0</td>\n",
       "    </tr>\n",
       "    <tr>\n",
       "      <th>4</th>\n",
       "      <td>5</td>\n",
       "      <td>850</td>\n",
       "      <td>2</td>\n",
       "      <td>0</td>\n",
       "      <td>43</td>\n",
       "      <td>2</td>\n",
       "      <td>4.0</td>\n",
       "      <td>1</td>\n",
       "      <td>1</td>\n",
       "      <td>1</td>\n",
       "      <td>1.0</td>\n",
       "      <td>0</td>\n",
       "    </tr>\n",
       "  </tbody>\n",
       "</table>\n",
       "</div>"
      ],
      "text/plain": [
       "   RowNumber  CreditScore  Geography  Gender  Age  Tenure  Balance  \\\n",
       "0          1          619          0       0   42       2      0.0   \n",
       "1          2          608          2       0   41       1      3.0   \n",
       "2          3          502          0       0   42       8      5.0   \n",
       "3          4          699          0       0   39       1      0.0   \n",
       "4          5          850          2       0   43       2      4.0   \n",
       "\n",
       "   NumOfProducts  HasCrCard  IsActiveMember  EstimatedSalary  Exited  \n",
       "0              1          1               1              2.0       1  \n",
       "1              1          0               1              2.0       0  \n",
       "2              3          1               0              2.0       1  \n",
       "3              2          0               0              2.0       0  \n",
       "4              1          1               1              1.0       0  "
      ]
     },
     "execution_count": 39,
     "metadata": {},
     "output_type": "execute_result"
    }
   ],
   "source": [
    "df.head()"
   ]
  },
  {
   "cell_type": "code",
   "execution_count": 40,
   "id": "controversial-blair",
   "metadata": {
    "execution": {
     "iopub.execute_input": "2021-05-11T14:59:29.385111Z",
     "iopub.status.busy": "2021-05-11T14:59:29.384138Z",
     "iopub.status.idle": "2021-05-11T14:59:29.404202Z",
     "shell.execute_reply": "2021-05-11T14:59:29.404769Z"
    },
    "papermill": {
     "duration": 0.099897,
     "end_time": "2021-05-11T14:59:29.404943",
     "exception": false,
     "start_time": "2021-05-11T14:59:29.305046",
     "status": "completed"
    },
    "tags": []
   },
   "outputs": [
    {
     "data": {
      "text/html": [
       "<div>\n",
       "<style scoped>\n",
       "    .dataframe tbody tr th:only-of-type {\n",
       "        vertical-align: middle;\n",
       "    }\n",
       "\n",
       "    .dataframe tbody tr th {\n",
       "        vertical-align: top;\n",
       "    }\n",
       "\n",
       "    .dataframe thead th {\n",
       "        text-align: right;\n",
       "    }\n",
       "</style>\n",
       "<table border=\"1\" class=\"dataframe\">\n",
       "  <thead>\n",
       "    <tr style=\"text-align: right;\">\n",
       "      <th></th>\n",
       "      <th>CreditScoreBand</th>\n",
       "      <th>Exited</th>\n",
       "    </tr>\n",
       "  </thead>\n",
       "  <tbody>\n",
       "    <tr>\n",
       "      <th>0</th>\n",
       "      <td>(349.5, 450.0]</td>\n",
       "      <td>0.322751</td>\n",
       "    </tr>\n",
       "    <tr>\n",
       "      <th>1</th>\n",
       "      <td>(450.0, 550.0]</td>\n",
       "      <td>0.214385</td>\n",
       "    </tr>\n",
       "    <tr>\n",
       "      <th>2</th>\n",
       "      <td>(550.0, 650.0]</td>\n",
       "      <td>0.207780</td>\n",
       "    </tr>\n",
       "    <tr>\n",
       "      <th>3</th>\n",
       "      <td>(650.0, 750.0]</td>\n",
       "      <td>0.192496</td>\n",
       "    </tr>\n",
       "    <tr>\n",
       "      <th>4</th>\n",
       "      <td>(750.0, 850.0]</td>\n",
       "      <td>0.195870</td>\n",
       "    </tr>\n",
       "  </tbody>\n",
       "</table>\n",
       "</div>"
      ],
      "text/plain": [
       "  CreditScoreBand    Exited\n",
       "0  (349.5, 450.0]  0.322751\n",
       "1  (450.0, 550.0]  0.214385\n",
       "2  (550.0, 650.0]  0.207780\n",
       "3  (650.0, 750.0]  0.192496\n",
       "4  (750.0, 850.0]  0.195870"
      ]
     },
     "execution_count": 40,
     "metadata": {},
     "output_type": "execute_result"
    }
   ],
   "source": [
    "df['CreditScoreBand'] = pd.cut(df['CreditScore'], 5)\n",
    "df[['CreditScoreBand', 'Exited']].groupby(['CreditScoreBand'], as_index=False).mean().sort_values(by='CreditScoreBand', ascending=True)"
   ]
  },
  {
   "cell_type": "code",
   "execution_count": 41,
   "id": "nervous-drama",
   "metadata": {
    "execution": {
     "iopub.execute_input": "2021-05-11T14:59:29.562362Z",
     "iopub.status.busy": "2021-05-11T14:59:29.561374Z",
     "iopub.status.idle": "2021-05-11T14:59:29.575566Z",
     "shell.execute_reply": "2021-05-11T14:59:29.575056Z"
    },
    "papermill": {
     "duration": 0.094321,
     "end_time": "2021-05-11T14:59:29.575730",
     "exception": false,
     "start_time": "2021-05-11T14:59:29.481409",
     "status": "completed"
    },
    "tags": []
   },
   "outputs": [],
   "source": [
    "df.loc[df['CreditScore'] <= 450, 'CreditScore'] = 0\n",
    "df.loc[(df['CreditScore'] > 450) & (df['CreditScore'] <= 550), 'CreditScore'] = 1\n",
    "df.loc[(df['CreditScore'] > 550) & (df['CreditScore'] <= 650), 'CreditScore'] = 2\n",
    "df.loc[(df['CreditScore'] > 650) & (df['CreditScore'] <= 750), 'CreditScore'] = 3\n",
    "df.loc[(df['CreditScore'] > 750) & (df['CreditScore'] <= 850), 'CreditScore'] = 4\n",
    "df.loc[(df['CreditScore'] > 850), 'CreditScore'] = 5"
   ]
  },
  {
   "cell_type": "code",
   "execution_count": 42,
   "id": "going-theology",
   "metadata": {
    "execution": {
     "iopub.execute_input": "2021-05-11T14:59:29.735227Z",
     "iopub.status.busy": "2021-05-11T14:59:29.734531Z",
     "iopub.status.idle": "2021-05-11T14:59:29.737091Z",
     "shell.execute_reply": "2021-05-11T14:59:29.737564Z"
    },
    "papermill": {
     "duration": 0.085212,
     "end_time": "2021-05-11T14:59:29.737744",
     "exception": false,
     "start_time": "2021-05-11T14:59:29.652532",
     "status": "completed"
    },
    "tags": []
   },
   "outputs": [],
   "source": [
    "df.drop('CreditScoreBand',axis=1,inplace=True)"
   ]
  },
  {
   "cell_type": "code",
   "execution_count": 43,
   "id": "beginning-paraguay",
   "metadata": {
    "execution": {
     "iopub.execute_input": "2021-05-11T14:59:29.906609Z",
     "iopub.status.busy": "2021-05-11T14:59:29.905920Z",
     "iopub.status.idle": "2021-05-11T14:59:29.909496Z",
     "shell.execute_reply": "2021-05-11T14:59:29.909984Z"
    },
    "papermill": {
     "duration": 0.095347,
     "end_time": "2021-05-11T14:59:29.910161",
     "exception": false,
     "start_time": "2021-05-11T14:59:29.814814",
     "status": "completed"
    },
    "tags": []
   },
   "outputs": [
    {
     "data": {
      "text/html": [
       "<div>\n",
       "<style scoped>\n",
       "    .dataframe tbody tr th:only-of-type {\n",
       "        vertical-align: middle;\n",
       "    }\n",
       "\n",
       "    .dataframe tbody tr th {\n",
       "        vertical-align: top;\n",
       "    }\n",
       "\n",
       "    .dataframe thead th {\n",
       "        text-align: right;\n",
       "    }\n",
       "</style>\n",
       "<table border=\"1\" class=\"dataframe\">\n",
       "  <thead>\n",
       "    <tr style=\"text-align: right;\">\n",
       "      <th></th>\n",
       "      <th>RowNumber</th>\n",
       "      <th>CreditScore</th>\n",
       "      <th>Geography</th>\n",
       "      <th>Gender</th>\n",
       "      <th>Age</th>\n",
       "      <th>Tenure</th>\n",
       "      <th>Balance</th>\n",
       "      <th>NumOfProducts</th>\n",
       "      <th>HasCrCard</th>\n",
       "      <th>IsActiveMember</th>\n",
       "      <th>EstimatedSalary</th>\n",
       "      <th>Exited</th>\n",
       "    </tr>\n",
       "  </thead>\n",
       "  <tbody>\n",
       "    <tr>\n",
       "      <th>0</th>\n",
       "      <td>1</td>\n",
       "      <td>2</td>\n",
       "      <td>0</td>\n",
       "      <td>0</td>\n",
       "      <td>42</td>\n",
       "      <td>2</td>\n",
       "      <td>0.0</td>\n",
       "      <td>1</td>\n",
       "      <td>1</td>\n",
       "      <td>1</td>\n",
       "      <td>2.0</td>\n",
       "      <td>1</td>\n",
       "    </tr>\n",
       "    <tr>\n",
       "      <th>1</th>\n",
       "      <td>2</td>\n",
       "      <td>2</td>\n",
       "      <td>2</td>\n",
       "      <td>0</td>\n",
       "      <td>41</td>\n",
       "      <td>1</td>\n",
       "      <td>3.0</td>\n",
       "      <td>1</td>\n",
       "      <td>0</td>\n",
       "      <td>1</td>\n",
       "      <td>2.0</td>\n",
       "      <td>0</td>\n",
       "    </tr>\n",
       "    <tr>\n",
       "      <th>2</th>\n",
       "      <td>3</td>\n",
       "      <td>1</td>\n",
       "      <td>0</td>\n",
       "      <td>0</td>\n",
       "      <td>42</td>\n",
       "      <td>8</td>\n",
       "      <td>5.0</td>\n",
       "      <td>3</td>\n",
       "      <td>1</td>\n",
       "      <td>0</td>\n",
       "      <td>2.0</td>\n",
       "      <td>1</td>\n",
       "    </tr>\n",
       "    <tr>\n",
       "      <th>3</th>\n",
       "      <td>4</td>\n",
       "      <td>3</td>\n",
       "      <td>0</td>\n",
       "      <td>0</td>\n",
       "      <td>39</td>\n",
       "      <td>1</td>\n",
       "      <td>0.0</td>\n",
       "      <td>2</td>\n",
       "      <td>0</td>\n",
       "      <td>0</td>\n",
       "      <td>2.0</td>\n",
       "      <td>0</td>\n",
       "    </tr>\n",
       "    <tr>\n",
       "      <th>4</th>\n",
       "      <td>5</td>\n",
       "      <td>4</td>\n",
       "      <td>2</td>\n",
       "      <td>0</td>\n",
       "      <td>43</td>\n",
       "      <td>2</td>\n",
       "      <td>4.0</td>\n",
       "      <td>1</td>\n",
       "      <td>1</td>\n",
       "      <td>1</td>\n",
       "      <td>1.0</td>\n",
       "      <td>0</td>\n",
       "    </tr>\n",
       "  </tbody>\n",
       "</table>\n",
       "</div>"
      ],
      "text/plain": [
       "   RowNumber  CreditScore  Geography  Gender  Age  Tenure  Balance  \\\n",
       "0          1            2          0       0   42       2      0.0   \n",
       "1          2            2          2       0   41       1      3.0   \n",
       "2          3            1          0       0   42       8      5.0   \n",
       "3          4            3          0       0   39       1      0.0   \n",
       "4          5            4          2       0   43       2      4.0   \n",
       "\n",
       "   NumOfProducts  HasCrCard  IsActiveMember  EstimatedSalary  Exited  \n",
       "0              1          1               1              2.0       1  \n",
       "1              1          0               1              2.0       0  \n",
       "2              3          1               0              2.0       1  \n",
       "3              2          0               0              2.0       0  \n",
       "4              1          1               1              1.0       0  "
      ]
     },
     "execution_count": 43,
     "metadata": {},
     "output_type": "execute_result"
    }
   ],
   "source": [
    "df.head()"
   ]
  },
  {
   "cell_type": "code",
   "execution_count": 44,
   "id": "conventional-repeat",
   "metadata": {
    "execution": {
     "iopub.execute_input": "2021-05-11T14:59:30.072208Z",
     "iopub.status.busy": "2021-05-11T14:59:30.071326Z",
     "iopub.status.idle": "2021-05-11T14:59:30.074388Z",
     "shell.execute_reply": "2021-05-11T14:59:30.074867Z"
    },
    "papermill": {
     "duration": 0.087944,
     "end_time": "2021-05-11T14:59:30.075081",
     "exception": false,
     "start_time": "2021-05-11T14:59:29.987137",
     "status": "completed"
    },
    "tags": []
   },
   "outputs": [],
   "source": [
    "X = df.drop('Exited',axis=1)\n",
    "y = df['Exited']"
   ]
  },
  {
   "cell_type": "code",
   "execution_count": 45,
   "id": "sacred-flush",
   "metadata": {
    "execution": {
     "iopub.execute_input": "2021-05-11T14:59:30.238030Z",
     "iopub.status.busy": "2021-05-11T14:59:30.237043Z",
     "iopub.status.idle": "2021-05-11T14:59:30.242585Z",
     "shell.execute_reply": "2021-05-11T14:59:30.242099Z"
    },
    "papermill": {
     "duration": 0.08954,
     "end_time": "2021-05-11T14:59:30.242742",
     "exception": false,
     "start_time": "2021-05-11T14:59:30.153202",
     "status": "completed"
    },
    "tags": []
   },
   "outputs": [],
   "source": [
    "X_train,X_test,y_train,y_test = train_test_split(X,y,test_size = 0.33,random_state=42)"
   ]
  },
  {
   "cell_type": "code",
   "execution_count": 46,
   "id": "wanted-illustration",
   "metadata": {
    "execution": {
     "iopub.execute_input": "2021-05-11T14:59:30.405370Z",
     "iopub.status.busy": "2021-05-11T14:59:30.404377Z",
     "iopub.status.idle": "2021-05-11T14:59:30.411243Z",
     "shell.execute_reply": "2021-05-11T14:59:30.410299Z"
    },
    "papermill": {
     "duration": 0.090895,
     "end_time": "2021-05-11T14:59:30.411461",
     "exception": false,
     "start_time": "2021-05-11T14:59:30.320566",
     "status": "completed"
    },
    "tags": []
   },
   "outputs": [
    {
     "name": "stdout",
     "output_type": "stream",
     "text": [
      "DataFrame Shape: (10000, 12)\n",
      "*************************\n",
      "X Train Shape: (6700, 11)\n",
      "*************************\n",
      "X Test Shape: (3300, 11)\n",
      "*************************\n",
      "Y Train Shape: (6700,)\n",
      "*************************\n",
      "Y Test Shape: (3300,)\n"
     ]
    }
   ],
   "source": [
    "print('DataFrame Shape:', df.shape)\n",
    "print('*'*25)\n",
    "print('X Train Shape:', X_train.shape)\n",
    "print('*'*25)\n",
    "print('X Test Shape:', X_test.shape)\n",
    "print('*'*25)\n",
    "print('Y Train Shape:', y_train.shape)\n",
    "print('*'*25)\n",
    "print('Y Test Shape:', y_test.shape)"
   ]
  },
  {
   "cell_type": "markdown",
   "id": "intended-marina",
   "metadata": {
    "papermill": {
     "duration": 0.078979,
     "end_time": "2021-05-11T14:59:30.569196",
     "exception": false,
     "start_time": "2021-05-11T14:59:30.490217",
     "status": "completed"
    },
    "tags": []
   },
   "source": [
    "## Model Deployment"
   ]
  },
  {
   "cell_type": "code",
   "execution_count": 47,
   "id": "irish-kennedy",
   "metadata": {
    "execution": {
     "iopub.execute_input": "2021-05-11T14:59:30.733234Z",
     "iopub.status.busy": "2021-05-11T14:59:30.732536Z",
     "iopub.status.idle": "2021-05-11T14:59:30.735288Z",
     "shell.execute_reply": "2021-05-11T14:59:30.734817Z"
    },
    "papermill": {
     "duration": 0.088253,
     "end_time": "2021-05-11T14:59:30.735425",
     "exception": false,
     "start_time": "2021-05-11T14:59:30.647172",
     "status": "completed"
    },
    "tags": []
   },
   "outputs": [],
   "source": [
    "models = []\n",
    "models.append(['XGBClassifier',XGBClassifier(learning_rate=0.1,objective='binary:logistic',random_state=0,eval_metric='mlogloss')])\n",
    "models.append(['Logistic Regression',LogisticRegression(random_state=0)])\n",
    "models.append(['SVM',SVC(random_state=0)])\n",
    "models.append(['KNeigbors',KNeighborsClassifier()])\n",
    "models.append(['GaussianNB',GaussianNB()])\n",
    "models.append(['BernoulliNB',BernoulliNB()])\n",
    "models.append(['DecisionTree',DecisionTreeClassifier(random_state=0)])\n",
    "models.append(['RandomForest',RandomForestClassifier(random_state=0)])\n",
    "models.append(['AdaBoostClassifier',AdaBoostClassifier()])"
   ]
  },
  {
   "cell_type": "code",
   "execution_count": 48,
   "id": "adequate-fountain",
   "metadata": {
    "execution": {
     "iopub.execute_input": "2021-05-11T14:59:30.935396Z",
     "iopub.status.busy": "2021-05-11T14:59:30.934385Z",
     "iopub.status.idle": "2021-05-11T15:00:03.704758Z",
     "shell.execute_reply": "2021-05-11T15:00:03.705281Z"
    },
    "papermill": {
     "duration": 32.852609,
     "end_time": "2021-05-11T15:00:03.705465",
     "exception": false,
     "start_time": "2021-05-11T14:59:30.852856",
     "status": "completed"
    },
    "tags": []
   },
   "outputs": [
    {
     "name": "stdout",
     "output_type": "stream",
     "text": [
      "XGBClassifier :\n",
      "[[2547  110]\n",
      " [ 326  317]]\n",
      "Accuracy Score:  0.8678787878787879\n",
      "\n",
      "K-Fold Validation Mean Accuracy: 85.45 %\n",
      "\n",
      "Standard Deviation: 1.40 %\n",
      "\n",
      "ROC AUC Score: 0.73 %\n",
      "\n",
      "Precision: 0.74 %\n",
      "\n",
      "Recall: 0.49 %\n",
      "\n",
      "F1 Score: 0.59 %\n",
      "----------------------------------------\n",
      "\n",
      "Logistic Regression :\n",
      "[[2581   76]\n",
      " [ 541  102]]\n",
      "Accuracy Score:  0.813030303030303\n",
      "\n",
      "K-Fold Validation Mean Accuracy: 79.60 %\n",
      "\n",
      "Standard Deviation: 0.40 %\n",
      "\n",
      "ROC AUC Score: 0.57 %\n",
      "\n",
      "Precision: 0.57 %\n",
      "\n",
      "Recall: 0.16 %\n",
      "\n",
      "F1 Score: 0.25 %\n",
      "----------------------------------------\n",
      "\n",
      "SVM :\n",
      "[[2657    0]\n",
      " [ 643    0]]\n",
      "Accuracy Score:  0.8051515151515152\n",
      "\n",
      "K-Fold Validation Mean Accuracy: 79.19 %\n",
      "\n",
      "Standard Deviation: 0.07 %\n",
      "\n",
      "ROC AUC Score: 0.50 %\n",
      "\n",
      "Precision: 0.00 %\n",
      "\n",
      "Recall: 0.00 %\n",
      "\n",
      "F1 Score: 0.00 %\n",
      "----------------------------------------\n",
      "\n",
      "KNeigbors :\n",
      "[[2464  193]\n",
      " [ 542  101]]\n",
      "Accuracy Score:  0.7772727272727272\n",
      "\n",
      "K-Fold Validation Mean Accuracy: 77.40 %\n",
      "\n",
      "Standard Deviation: 0.84 %\n",
      "\n",
      "ROC AUC Score: 0.54 %\n",
      "\n",
      "Precision: 0.34 %\n",
      "\n",
      "Recall: 0.16 %\n",
      "\n",
      "F1 Score: 0.22 %\n",
      "----------------------------------------\n",
      "\n",
      "GaussianNB :\n",
      "[[2657    0]\n",
      " [ 643    0]]\n",
      "Accuracy Score:  0.8051515151515152\n",
      "\n",
      "K-Fold Validation Mean Accuracy: 79.52 %\n",
      "\n",
      "Standard Deviation: 1.01 %\n",
      "\n",
      "ROC AUC Score: 0.50 %\n",
      "\n",
      "Precision: 0.00 %\n",
      "\n",
      "Recall: 0.00 %\n",
      "\n",
      "F1 Score: 0.00 %\n",
      "----------------------------------------\n",
      "\n",
      "BernoulliNB :\n",
      "[[2654    3]\n",
      " [ 635    8]]\n",
      "Accuracy Score:  0.8066666666666666\n",
      "\n",
      "K-Fold Validation Mean Accuracy: 79.15 %\n",
      "\n",
      "Standard Deviation: 0.24 %\n",
      "\n",
      "ROC AUC Score: 0.51 %\n",
      "\n",
      "Precision: 0.73 %\n",
      "\n",
      "Recall: 0.01 %\n",
      "\n",
      "F1 Score: 0.02 %\n",
      "----------------------------------------\n",
      "\n",
      "DecisionTree :\n",
      "[[2258  399]\n",
      " [ 317  326]]\n",
      "Accuracy Score:  0.7830303030303031\n",
      "\n",
      "K-Fold Validation Mean Accuracy: 77.84 %\n",
      "\n",
      "Standard Deviation: 0.97 %\n",
      "\n",
      "ROC AUC Score: 0.68 %\n",
      "\n",
      "Precision: 0.45 %\n",
      "\n",
      "Recall: 0.51 %\n",
      "\n",
      "F1 Score: 0.48 %\n",
      "----------------------------------------\n",
      "\n",
      "RandomForest :\n",
      "[[2553  104]\n",
      " [ 351  292]]\n",
      "Accuracy Score:  0.8621212121212121\n",
      "\n",
      "K-Fold Validation Mean Accuracy: 84.99 %\n",
      "\n",
      "Standard Deviation: 0.76 %\n",
      "\n",
      "ROC AUC Score: 0.71 %\n",
      "\n",
      "Precision: 0.74 %\n",
      "\n",
      "Recall: 0.45 %\n",
      "\n",
      "F1 Score: 0.56 %\n",
      "----------------------------------------\n",
      "\n",
      "AdaBoostClassifier :\n",
      "[[2526  131]\n",
      " [ 329  314]]\n",
      "Accuracy Score:  0.8606060606060606\n",
      "\n",
      "K-Fold Validation Mean Accuracy: 84.64 %\n",
      "\n",
      "Standard Deviation: 1.22 %\n",
      "\n",
      "ROC AUC Score: 0.72 %\n",
      "\n",
      "Precision: 0.71 %\n",
      "\n",
      "Recall: 0.49 %\n",
      "\n",
      "F1 Score: 0.58 %\n",
      "----------------------------------------\n",
      "\n"
     ]
    }
   ],
   "source": [
    "lst_1 = []\n",
    "for m in range(len(models)):\n",
    "    lst_2 = []\n",
    "    model = models[m][1]\n",
    "    model.fit(X_train,y_train)\n",
    "    y_pred = model.predict(X_test)\n",
    "    cm = confusion_matrix(y_test,y_pred)\n",
    "    accuracies = cross_val_score(estimator= model, X = X_train,y = y_train, cv=10)\n",
    "\n",
    "# k-fOLD Validation\n",
    "    roc = roc_auc_score(y_test,y_pred)\n",
    "    precision = precision_score(y_test,y_pred)\n",
    "    recall = recall_score(y_test,y_pred)\n",
    "    f1 = f1_score(y_test,y_pred)\n",
    "    print(models[m][0],':')\n",
    "    print(cm)\n",
    "    print('Accuracy Score: ',accuracy_score(y_test,y_pred))\n",
    "    print('')\n",
    "    print('K-Fold Validation Mean Accuracy: {:.2f} %'.format(accuracies.mean()*100))\n",
    "    print('')\n",
    "    print('Standard Deviation: {:.2f} %'.format(accuracies.std()*100))\n",
    "    print('')\n",
    "    print('ROC AUC Score: {:.2f} %'.format(roc))\n",
    "    print('')\n",
    "    print('Precision: {:.2f} %'.format(precision))\n",
    "    print('')\n",
    "    print('Recall: {:.2f} %'.format(recall))\n",
    "    print('')\n",
    "    print('F1 Score: {:.2f} %'.format(f1))\n",
    "    print('-'*40)\n",
    "    print('')\n",
    "    lst_2.append(models[m][0])\n",
    "    lst_2.append(accuracy_score(y_test,y_pred)*100)\n",
    "    lst_2.append(accuracies.mean()*100)\n",
    "    lst_2.append(accuracies.std()*100)\n",
    "    lst_2.append(roc)\n",
    "    lst_2.append(precision)\n",
    "    lst_2.append(recall)\n",
    "    lst_2.append(f1)\n",
    "    lst_1.append(lst_2)"
   ]
  },
  {
   "cell_type": "code",
   "execution_count": 49,
   "id": "figured-calvin",
   "metadata": {
    "execution": {
     "iopub.execute_input": "2021-05-11T15:00:03.886971Z",
     "iopub.status.busy": "2021-05-11T15:00:03.886326Z",
     "iopub.status.idle": "2021-05-11T15:00:03.889939Z",
     "shell.execute_reply": "2021-05-11T15:00:03.889389Z"
    },
    "papermill": {
     "duration": 0.104195,
     "end_time": "2021-05-11T15:00:03.890080",
     "exception": false,
     "start_time": "2021-05-11T15:00:03.785885",
     "status": "completed"
    },
    "tags": []
   },
   "outputs": [
    {
     "data": {
      "text/html": [
       "<div>\n",
       "<style scoped>\n",
       "    .dataframe tbody tr th:only-of-type {\n",
       "        vertical-align: middle;\n",
       "    }\n",
       "\n",
       "    .dataframe tbody tr th {\n",
       "        vertical-align: top;\n",
       "    }\n",
       "\n",
       "    .dataframe thead th {\n",
       "        text-align: right;\n",
       "    }\n",
       "</style>\n",
       "<table border=\"1\" class=\"dataframe\">\n",
       "  <thead>\n",
       "    <tr style=\"text-align: right;\">\n",
       "      <th></th>\n",
       "      <th>Model</th>\n",
       "      <th>Accuracy</th>\n",
       "      <th>K-Fold Mean Accuracy</th>\n",
       "      <th>Std.Deviation</th>\n",
       "      <th>ROC_AUC</th>\n",
       "      <th>Precision</th>\n",
       "      <th>Recall</th>\n",
       "      <th>F1 Score</th>\n",
       "    </tr>\n",
       "  </thead>\n",
       "  <tbody>\n",
       "    <tr>\n",
       "      <th>0</th>\n",
       "      <td>XGBClassifier</td>\n",
       "      <td>86.787879</td>\n",
       "      <td>85.447761</td>\n",
       "      <td>1.395742</td>\n",
       "      <td>0.725801</td>\n",
       "      <td>0.742389</td>\n",
       "      <td>0.493002</td>\n",
       "      <td>0.592523</td>\n",
       "    </tr>\n",
       "    <tr>\n",
       "      <th>7</th>\n",
       "      <td>RandomForest</td>\n",
       "      <td>86.212121</td>\n",
       "      <td>84.985075</td>\n",
       "      <td>0.758702</td>\n",
       "      <td>0.707490</td>\n",
       "      <td>0.737374</td>\n",
       "      <td>0.454121</td>\n",
       "      <td>0.562079</td>\n",
       "    </tr>\n",
       "    <tr>\n",
       "      <th>8</th>\n",
       "      <td>AdaBoostClassifier</td>\n",
       "      <td>86.060606</td>\n",
       "      <td>84.641791</td>\n",
       "      <td>1.224336</td>\n",
       "      <td>0.719516</td>\n",
       "      <td>0.705618</td>\n",
       "      <td>0.488336</td>\n",
       "      <td>0.577206</td>\n",
       "    </tr>\n",
       "    <tr>\n",
       "      <th>1</th>\n",
       "      <td>Logistic Regression</td>\n",
       "      <td>81.303030</td>\n",
       "      <td>79.597015</td>\n",
       "      <td>0.395170</td>\n",
       "      <td>0.565014</td>\n",
       "      <td>0.573034</td>\n",
       "      <td>0.158631</td>\n",
       "      <td>0.248477</td>\n",
       "    </tr>\n",
       "    <tr>\n",
       "      <th>5</th>\n",
       "      <td>BernoulliNB</td>\n",
       "      <td>80.666667</td>\n",
       "      <td>79.149254</td>\n",
       "      <td>0.241127</td>\n",
       "      <td>0.505656</td>\n",
       "      <td>0.727273</td>\n",
       "      <td>0.012442</td>\n",
       "      <td>0.024465</td>\n",
       "    </tr>\n",
       "    <tr>\n",
       "      <th>4</th>\n",
       "      <td>GaussianNB</td>\n",
       "      <td>80.515152</td>\n",
       "      <td>79.522388</td>\n",
       "      <td>1.007435</td>\n",
       "      <td>0.500000</td>\n",
       "      <td>0.000000</td>\n",
       "      <td>0.000000</td>\n",
       "      <td>0.000000</td>\n",
       "    </tr>\n",
       "    <tr>\n",
       "      <th>2</th>\n",
       "      <td>SVM</td>\n",
       "      <td>80.515152</td>\n",
       "      <td>79.194030</td>\n",
       "      <td>0.073119</td>\n",
       "      <td>0.500000</td>\n",
       "      <td>0.000000</td>\n",
       "      <td>0.000000</td>\n",
       "      <td>0.000000</td>\n",
       "    </tr>\n",
       "    <tr>\n",
       "      <th>6</th>\n",
       "      <td>DecisionTree</td>\n",
       "      <td>78.303030</td>\n",
       "      <td>77.835821</td>\n",
       "      <td>0.972443</td>\n",
       "      <td>0.678415</td>\n",
       "      <td>0.449655</td>\n",
       "      <td>0.506998</td>\n",
       "      <td>0.476608</td>\n",
       "    </tr>\n",
       "    <tr>\n",
       "      <th>3</th>\n",
       "      <td>KNeigbors</td>\n",
       "      <td>77.727273</td>\n",
       "      <td>77.402985</td>\n",
       "      <td>0.839544</td>\n",
       "      <td>0.542219</td>\n",
       "      <td>0.343537</td>\n",
       "      <td>0.157076</td>\n",
       "      <td>0.215582</td>\n",
       "    </tr>\n",
       "  </tbody>\n",
       "</table>\n",
       "</div>"
      ],
      "text/plain": [
       "                 Model   Accuracy  K-Fold Mean Accuracy  Std.Deviation  \\\n",
       "0        XGBClassifier  86.787879             85.447761       1.395742   \n",
       "7         RandomForest  86.212121             84.985075       0.758702   \n",
       "8   AdaBoostClassifier  86.060606             84.641791       1.224336   \n",
       "1  Logistic Regression  81.303030             79.597015       0.395170   \n",
       "5          BernoulliNB  80.666667             79.149254       0.241127   \n",
       "4           GaussianNB  80.515152             79.522388       1.007435   \n",
       "2                  SVM  80.515152             79.194030       0.073119   \n",
       "6         DecisionTree  78.303030             77.835821       0.972443   \n",
       "3            KNeigbors  77.727273             77.402985       0.839544   \n",
       "\n",
       "    ROC_AUC  Precision    Recall  F1 Score  \n",
       "0  0.725801   0.742389  0.493002  0.592523  \n",
       "7  0.707490   0.737374  0.454121  0.562079  \n",
       "8  0.719516   0.705618  0.488336  0.577206  \n",
       "1  0.565014   0.573034  0.158631  0.248477  \n",
       "5  0.505656   0.727273  0.012442  0.024465  \n",
       "4  0.500000   0.000000  0.000000  0.000000  \n",
       "2  0.500000   0.000000  0.000000  0.000000  \n",
       "6  0.678415   0.449655  0.506998  0.476608  \n",
       "3  0.542219   0.343537  0.157076  0.215582  "
      ]
     },
     "execution_count": 49,
     "metadata": {},
     "output_type": "execute_result"
    }
   ],
   "source": [
    "df2 = pd.DataFrame(lst_1,columns=['Model','Accuracy','K-Fold Mean Accuracy','Std.Deviation','ROC_AUC','Precision','Recall','F1 Score'])\n",
    "\n",
    "df2.sort_values(by=['Accuracy','K-Fold Mean Accuracy'],inplace=True,ascending=False)\n",
    "df2\n",
    "\n",
    "# COMPARE"
   ]
  },
  {
   "cell_type": "code",
   "execution_count": 50,
   "id": "fresh-telescope",
   "metadata": {
    "execution": {
     "iopub.execute_input": "2021-05-11T15:00:04.106026Z",
     "iopub.status.busy": "2021-05-11T15:00:04.098072Z",
     "iopub.status.idle": "2021-05-11T15:00:04.283056Z",
     "shell.execute_reply": "2021-05-11T15:00:04.282237Z"
    },
    "papermill": {
     "duration": 0.311207,
     "end_time": "2021-05-11T15:00:04.283193",
     "exception": false,
     "start_time": "2021-05-11T15:00:03.971986",
     "status": "completed"
    },
    "tags": []
   },
   "outputs": [
    {
     "data": {
      "image/png": "[encoded data removed]",
      "text/plain": [
       "<Figure size 432x288 with 1 Axes>"
      ]
     },
     "metadata": {},
     "output_type": "display_data"
    }
   ],
   "source": [
    "sns.barplot(x='Accuracy',y='Model',data=df2,color='b')\n",
    "plt.title('Model Compare Graphic');"
   ]
  },
  {
   "cell_type": "markdown",
   "id": "multiple-scroll",
   "metadata": {
    "papermill": {
     "duration": 0.083712,
     "end_time": "2021-05-11T15:00:04.449662",
     "exception": false,
     "start_time": "2021-05-11T15:00:04.365950",
     "status": "completed"
    },
    "tags": []
   },
   "source": [
    "## Model Tuning"
   ]
  },
  {
   "cell_type": "code",
   "execution_count": 51,
   "id": "opening-brake",
   "metadata": {
    "execution": {
     "iopub.execute_input": "2021-05-11T15:00:04.624383Z",
     "iopub.status.busy": "2021-05-11T15:00:04.623712Z",
     "iopub.status.idle": "2021-05-11T15:00:04.625529Z",
     "shell.execute_reply": "2021-05-11T15:00:04.626043Z"
    },
    "papermill": {
     "duration": 0.093174,
     "end_time": "2021-05-11T15:00:04.626205",
     "exception": false,
     "start_time": "2021-05-11T15:00:04.533031",
     "status": "completed"
    },
    "tags": []
   },
   "outputs": [],
   "source": [
    "grid_models = [(XGBClassifier(), [{'learning_rate': [0.01, 0.05, 0.1], 'eval_metric': ['error']}]),\n",
    "               (KNeighborsClassifier(),[{'n_neighbors':[5,7,8,10], 'metric': ['euclidean', 'manhattan', 'chebyshev', 'minkowski']}]), \n",
    "               (DecisionTreeClassifier(),[{'criterion':['gini','entropy'],'random_state':[0]}]), \n",
    "               (RandomForestClassifier(),[{'n_estimators':[100,150,200],'criterion':['gini','entropy'],'random_state':[0]}]),]"
   ]
  },
  {
   "cell_type": "code",
   "execution_count": 52,
   "id": "posted-mounting",
   "metadata": {
    "execution": {
     "iopub.execute_input": "2021-05-11T15:00:04.794373Z",
     "iopub.status.busy": "2021-05-11T15:00:04.793774Z",
     "iopub.status.idle": "2021-05-11T15:01:42.484428Z",
     "shell.execute_reply": "2021-05-11T15:01:42.484963Z"
    },
    "papermill": {
     "duration": 97.776263,
     "end_time": "2021-05-11T15:01:42.485132",
     "exception": false,
     "start_time": "2021-05-11T15:00:04.708869",
     "status": "completed"
    },
    "tags": []
   },
   "outputs": [
    {
     "name": "stdout",
     "output_type": "stream",
     "text": [
      " XGBClassifier(base_score=None, booster=None, colsample_bylevel=None,\n",
      "              colsample_bynode=None, colsample_bytree=None, gamma=None,\n",
      "              gpu_id=None, importance_type='gain', interaction_constraints=None,\n",
      "              learning_rate=None, max_delta_step=None, max_depth=None,\n",
      "              min_child_weight=None, missing=nan, monotone_constraints=None,\n",
      "              n_estimators=100, n_jobs=None, num_parallel_tree=None,\n",
      "              random_state=None, reg_alpha=None, reg_lambda=None,\n",
      "              scale_pos_weight=None, subsample=None, tree_method=None,\n",
      "              validate_parameters=None, verbosity=None): \n",
      " Best Accuracy: 85.52 %\n",
      "\n",
      "-------------------------\n",
      "\n",
      " KNeighborsClassifier(): \n",
      " Best Accuracy: 79.06 %\n",
      "\n",
      "-------------------------\n",
      "\n",
      " DecisionTreeClassifier(): \n",
      " Best Accuracy: 78.27 %\n",
      "\n",
      "-------------------------\n",
      "\n",
      " RandomForestClassifier(): \n",
      " Best Accuracy: 85.06 %\n",
      "\n",
      "-------------------------\n",
      "\n"
     ]
    }
   ],
   "source": [
    "for i,j in grid_models:\n",
    "    grid = GridSearchCV(estimator=i,param_grid = j, scoring = 'accuracy',cv = 10)\n",
    "    grid.fit(X_train,y_train)\n",
    "    best_accuracy = grid.best_score_\n",
    "    best_param = grid.best_params_\n",
    "    print(' {}: \\n Best Accuracy: {:.2f} %'.format(i,best_accuracy*100))\n",
    "    print('')\n",
    "    print('-'*25)\n",
    "    print('')"
   ]
  },
  {
   "cell_type": "code",
   "execution_count": 53,
   "id": "desperate-sympathy",
   "metadata": {
    "execution": {
     "iopub.execute_input": "2021-05-11T15:01:42.669720Z",
     "iopub.status.busy": "2021-05-11T15:01:42.668606Z",
     "iopub.status.idle": "2021-05-11T15:01:43.460917Z",
     "shell.execute_reply": "2021-05-11T15:01:43.460360Z"
    },
    "papermill": {
     "duration": 0.89001,
     "end_time": "2021-05-11T15:01:43.461051",
     "exception": false,
     "start_time": "2021-05-11T15:01:42.571041",
     "status": "completed"
    },
    "tags": []
   },
   "outputs": [
    {
     "name": "stdout",
     "output_type": "stream",
     "text": [
      "[15:01:42] WARNING: ../src/learner.cc:1095: Starting in XGBoost 1.3.0, the default evaluation metric used with the objective 'binary:logistic' was changed from 'error' to 'logloss'. Explicitly set eval_metric if you'd like to restore the old behavior.\n",
      "              precision    recall  f1-score   support\n",
      "\n",
      "           0       0.89      0.95      0.92      2657\n",
      "           1       0.70      0.49      0.58       643\n",
      "\n",
      "    accuracy                           0.86      3300\n",
      "   macro avg       0.79      0.72      0.75      3300\n",
      "weighted avg       0.85      0.86      0.85      3300\n",
      "\n",
      "ROC AUC score: 0.8333742085667074\n",
      "Accuracy Score:  0.86\n"
     ]
    },
    {
     "data": {
      "image/png": "[encoded data removed]",
      "text/plain": [
       "<Figure size 576x360 with 1 Axes>"
      ]
     },
     "metadata": {},
     "output_type": "display_data"
    },
    {
     "data": {
      "text/plain": [
       "Text(0.5, 0, 'False Positive Rate')"
      ]
     },
     "execution_count": 53,
     "metadata": {},
     "output_type": "execute_result"
    },
    {
     "data": {
      "image/png": "[encoded data removed]",
      "text/plain": [
       "<Figure size 576x576 with 1 Axes>"
      ]
     },
     "metadata": {},
     "output_type": "display_data"
    }
   ],
   "source": [
    "classifier = XGBClassifier(base_score=None, booster=None, colsample_bylevel=None,colsample_bynode=None, colsample_bytree=None, gamma=None,\n",
    "              gpu_id=None, importance_type='gain', interaction_constraints=None,\n",
    "              learning_rate=None, max_delta_step=None, max_depth=None,\n",
    "              min_child_weight=None,monotone_constraints=None,\n",
    "              n_estimators=100, n_jobs=None, num_parallel_tree=None,\n",
    "              random_state=None, reg_alpha=None, reg_lambda=None,\n",
    "              scale_pos_weight=None, subsample=None, tree_method=None,\n",
    "              validate_parameters=None, verbosity=None)\n",
    "classifier.fit(X_train, y_train)\n",
    "y_pred = classifier.predict(X_test)\n",
    "y_prob = classifier.predict_proba(X_test)[:,1]\n",
    "cm = confusion_matrix(y_test, y_pred)\n",
    "\n",
    "print(classification_report(y_test, y_pred))\n",
    "print(f'ROC AUC score: {roc_auc_score(y_test, y_prob)}')\n",
    "print('Accuracy Score: ',accuracy_score(y_test, y_pred))\n",
    "\n",
    "# Visualizing Confusion Matrix\n",
    "plt.figure(figsize = (8, 5))\n",
    "sns.heatmap(cm, cmap = 'Blues', annot = True, fmt = 'd', linewidths = 5, cbar = False, annot_kws = {'fontsize': 15}, \n",
    "            yticklabels = ['No stroke', 'Stroke'], xticklabels = ['Predicted no stroke', 'Predicted stroke'])\n",
    "plt.yticks(rotation = 0)\n",
    "plt.show()\n",
    "\n",
    "# Roc Curve\n",
    "false_positive_rate, true_positive_rate, thresholds = roc_curve(y_test, y_prob)\n",
    "roc_auc = auc(false_positive_rate, true_positive_rate)\n",
    "\n",
    "sns.set_theme(style = 'white')\n",
    "plt.figure(figsize = (8, 8))\n",
    "plt.plot(false_positive_rate,true_positive_rate, color = '#b01717', label = 'AUC = %0.3f' % roc_auc)\n",
    "plt.legend(loc = 'lower right')\n",
    "plt.plot([0, 1], [0, 1], linestyle = '--', color = '#174ab0')\n",
    "plt.axis('tight')\n",
    "plt.ylabel('True Positive Rate')\n",
    "plt.xlabel('False Positive Rate')"
   ]
  },
  {
   "cell_type": "markdown",
   "id": "fitting-jenny",
   "metadata": {
    "papermill": {
     "duration": 0.090164,
     "end_time": "2021-05-11T15:01:43.639219",
     "exception": false,
     "start_time": "2021-05-11T15:01:43.549055",
     "status": "completed"
    },
    "tags": []
   },
   "source": [
    "***Thank you for looking. Please provide your comments.***"
   ]
  },
  {
   "cell_type": "code",
   "execution_count": null,
   "id": "precise-oliver",
   "metadata": {
    "papermill": {
     "duration": 0.088621,
     "end_time": "2021-05-11T15:01:43.816650",
     "exception": false,
     "start_time": "2021-05-11T15:01:43.728029",
     "status": "completed"
    },
    "tags": []
   },
   "outputs": [],
   "source": []
  }
 ],
 "metadata": {
  "kernelspec": {
   "display_name": "Python 3",
   "language": "python",
   "name": "python3"
  },
  "language_info": {
   "codemirror_mode": {
    "name": "ipython",
    "version": 3
   },
   "file_extension": ".py",
   "mimetype": "text/x-python",
   "name": "python",
   "nbconvert_exporter": "python",
   "pygments_lexer": "ipython3",
   "version": "3.7.10"
  },
  "papermill": {
   "default_parameters": {},
   "duration": 385.097858,
   "end_time": "2021-05-11T15:01:46.582348",
   "environment_variables": {},
   "exception": null,
   "input_path": "__notebook__.ipynb",
   "output_path": "__notebook__.ipynb",
   "parameters": {},
   "start_time": "2021-05-11T14:55:21.484490",
   "version": "2.3.3"
  }
 },
 "nbformat": 4,
 "nbformat_minor": 5
}
